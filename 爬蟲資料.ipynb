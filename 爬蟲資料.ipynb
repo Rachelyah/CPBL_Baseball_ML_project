{
 "cells": [
  {
   "cell_type": "code",
   "execution_count": 1,
   "metadata": {},
   "outputs": [
    {
     "ename": "TypeError",
     "evalue": "WebDriver.__init__() got an unexpected keyword argument 'executable_path'",
     "output_type": "error",
     "traceback": [
      "\u001b[1;31m---------------------------------------------------------------------------\u001b[0m",
      "\u001b[1;31mTypeError\u001b[0m                                 Traceback (most recent call last)",
      "Cell \u001b[1;32mIn[1], line 10\u001b[0m\n\u001b[0;32m      7\u001b[0m driver_path \u001b[38;5;241m=\u001b[39m \u001b[38;5;124m\"\u001b[39m\u001b[38;5;124m./msedgedriver.exe\u001b[39m\u001b[38;5;124m\"\u001b[39m\n\u001b[0;32m      9\u001b[0m \u001b[38;5;66;03m# 初始化 WebDriver\u001b[39;00m\n\u001b[1;32m---> 10\u001b[0m driver \u001b[38;5;241m=\u001b[39m \u001b[43mwebdriver\u001b[49m\u001b[38;5;241;43m.\u001b[39;49m\u001b[43mIe\u001b[49m\u001b[43m(\u001b[49m\u001b[43mexecutable_path\u001b[49m\u001b[38;5;241;43m=\u001b[39;49m\u001b[43mdriver_path\u001b[49m\u001b[43m)\u001b[49m\n\u001b[0;32m     12\u001b[0m \u001b[38;5;66;03m# 前往目標網頁\u001b[39;00m\n\u001b[0;32m     13\u001b[0m url \u001b[38;5;241m=\u001b[39m \u001b[38;5;124m\"\u001b[39m\u001b[38;5;124mhttps://www.cpbl.com.tw/team/person?Acnt=0000005731\u001b[39m\u001b[38;5;124m\"\u001b[39m\n",
      "\u001b[1;31mTypeError\u001b[0m: WebDriver.__init__() got an unexpected keyword argument 'executable_path'"
     ]
    }
   ],
   "source": [
    "from selenium import webdriver\n",
    "from selenium.webdriver.common.by import By\n",
    "from selenium.webdriver.support.ui import WebDriverWait\n",
    "from selenium.webdriver.support import expected_conditions as EC\n",
    "\n",
    "# 設定 Internet Explorer WebDriver 的路徑（請替換為你自己的路徑）\n",
    "driver_path = \"./msedgedriver.exe\"\n",
    "\n",
    "# 初始化 WebDriver\n",
    "driver = webdriver.Ie(executable_path=driver_path)\n",
    "\n",
    "# 前往目標網頁\n",
    "url = \"https://www.cpbl.com.tw/team/person?Acnt=0000005731\"\n",
    "driver.get(url)\n",
    "\n",
    "# 使用 WebDriver 等待元素出現\n",
    "try:\n",
    "    element = WebDriverWait(driver, 10).until(\n",
    "        EC.presence_of_element_located((By.CLASS_NAME, \"RecordTable\"))\n",
    "    )\n",
    "finally:\n",
    "    # 當元素出現後，你可以進行資料的抓取\n",
    "    data = element.text\n",
    "    print(data)\n",
    "\n",
    "# 關閉 WebDriver\n",
    "driver.quit()"
   ]
  },
  {
   "cell_type": "code",
   "execution_count": 6,
   "metadata": {},
   "outputs": [
    {
     "ename": "SessionNotCreatedException",
     "evalue": "Message: session not created: No matching capabilities found\nStacktrace:\n\tGetHandleVerifier [0x00007FF6CD450382+58194]\n\tMicrosoft::Applications::Events::ILogConfiguration::operator* [0x00007FF6CD3DECE2+216546]\n\t(No symbol) [0x00007FF6CD1F9E1B]\n\t(No symbol) [0x00007FF6CD2749C1]\n\t(No symbol) [0x00007FF6CD273FF6]\n\t(No symbol) [0x00007FF6CD275969]\n\t(No symbol) [0x00007FF6CD26BD43]\n\t(No symbol) [0x00007FF6CD23C162]\n\t(No symbol) [0x00007FF6CD23B5BD]\n\t(No symbol) [0x00007FF6CD23C994]\n\tMicrosoft::Applications::Events::EventProperty::to_string [0x00007FF6CD60726A+1051354]\n\t(No symbol) [0x00007FF6CD2BF596]\n\tMicrosoft::Applications::Events::EventProperty::clear [0x00007FF6CD356205+34245]\n\tMicrosoft::Applications::Events::EventProperty::clear [0x00007FF6CD34E6AD+2669]\n\tMicrosoft::Applications::Events::EventProperty::to_string [0x00007FF6CD605F63+1046483]\n\tMicrosoft::Applications::Events::ILogConfiguration::operator* [0x00007FF6CD3E89C8+256712]\n\tMicrosoft::Applications::Events::ILogConfiguration::operator* [0x00007FF6CD3E4154+238164]\n\tMicrosoft::Applications::Events::ILogConfiguration::operator* [0x00007FF6CD3E4282+238466]\n\tMicrosoft::Applications::Events::ILogConfiguration::operator* [0x00007FF6CD3D9021+192801]\n\tBaseThreadInitThunk [0x00007FF89BD47344+20]\n\tRtlUserThreadStart [0x00007FF89C0426B1+33]\n",
     "output_type": "error",
     "traceback": [
      "\u001b[1;31m---------------------------------------------------------------------------\u001b[0m",
      "\u001b[1;31mSessionNotCreatedException\u001b[0m                Traceback (most recent call last)",
      "Cell \u001b[1;32mIn[6], line 13\u001b[0m\n\u001b[0;32m     10\u001b[0m service \u001b[38;5;241m=\u001b[39m webdriver\u001b[38;5;241m.\u001b[39mie\u001b[38;5;241m.\u001b[39mservice\u001b[38;5;241m.\u001b[39mService(driver_path)\n\u001b[0;32m     12\u001b[0m \u001b[38;5;66;03m# 初始化 WebDriver\u001b[39;00m\n\u001b[1;32m---> 13\u001b[0m driver \u001b[38;5;241m=\u001b[39m \u001b[43mwebdriver\u001b[49m\u001b[38;5;241;43m.\u001b[39;49m\u001b[43mIe\u001b[49m\u001b[43m(\u001b[49m\u001b[43mservice\u001b[49m\u001b[38;5;241;43m=\u001b[39;49m\u001b[43mservice\u001b[49m\u001b[43m)\u001b[49m\n\u001b[0;32m     15\u001b[0m \u001b[38;5;66;03m# 前往目標網頁\u001b[39;00m\n\u001b[0;32m     16\u001b[0m url \u001b[38;5;241m=\u001b[39m \u001b[38;5;124m\"\u001b[39m\u001b[38;5;124mhttps://www.cpbl.com.tw/team/person?Acnt=0000005731\u001b[39m\u001b[38;5;124m\"\u001b[39m\n",
      "File \u001b[1;32mc:\\Rachel\\GitHub\\CPBL_Baseball_ML_project\\.venv\\lib\\site-packages\\selenium\\webdriver\\ie\\webdriver.py:59\u001b[0m, in \u001b[0;36mWebDriver.__init__\u001b[1;34m(self, options, service, keep_alive)\u001b[0m\n\u001b[0;32m     52\u001b[0m executor \u001b[38;5;241m=\u001b[39m RemoteConnection(\n\u001b[0;32m     53\u001b[0m     remote_server_addr\u001b[38;5;241m=\u001b[39m\u001b[38;5;28mself\u001b[39m\u001b[38;5;241m.\u001b[39mservice\u001b[38;5;241m.\u001b[39mservice_url,\n\u001b[0;32m     54\u001b[0m     keep_alive\u001b[38;5;241m=\u001b[39mkeep_alive,\n\u001b[0;32m     55\u001b[0m     ignore_proxy\u001b[38;5;241m=\u001b[39moptions\u001b[38;5;241m.\u001b[39m_ignore_local_proxy,\n\u001b[0;32m     56\u001b[0m )\n\u001b[0;32m     58\u001b[0m \u001b[38;5;28;01mtry\u001b[39;00m:\n\u001b[1;32m---> 59\u001b[0m     \u001b[38;5;28;43msuper\u001b[39;49m\u001b[43m(\u001b[49m\u001b[43m)\u001b[49m\u001b[38;5;241;43m.\u001b[39;49m\u001b[38;5;21;43m__init__\u001b[39;49m\u001b[43m(\u001b[49m\u001b[43mcommand_executor\u001b[49m\u001b[38;5;241;43m=\u001b[39;49m\u001b[43mexecutor\u001b[49m\u001b[43m,\u001b[49m\u001b[43m \u001b[49m\u001b[43moptions\u001b[49m\u001b[38;5;241;43m=\u001b[39;49m\u001b[43moptions\u001b[49m\u001b[43m)\u001b[49m\n\u001b[0;32m     60\u001b[0m \u001b[38;5;28;01mexcept\u001b[39;00m \u001b[38;5;167;01mException\u001b[39;00m:\n\u001b[0;32m     61\u001b[0m     \u001b[38;5;28mself\u001b[39m\u001b[38;5;241m.\u001b[39mquit()\n",
      "File \u001b[1;32mc:\\Rachel\\GitHub\\CPBL_Baseball_ML_project\\.venv\\lib\\site-packages\\selenium\\webdriver\\remote\\webdriver.py:209\u001b[0m, in \u001b[0;36mWebDriver.__init__\u001b[1;34m(self, command_executor, keep_alive, file_detector, options)\u001b[0m\n\u001b[0;32m    207\u001b[0m \u001b[38;5;28mself\u001b[39m\u001b[38;5;241m.\u001b[39m_authenticator_id \u001b[38;5;241m=\u001b[39m \u001b[38;5;28;01mNone\u001b[39;00m\n\u001b[0;32m    208\u001b[0m \u001b[38;5;28mself\u001b[39m\u001b[38;5;241m.\u001b[39mstart_client()\n\u001b[1;32m--> 209\u001b[0m \u001b[38;5;28;43mself\u001b[39;49m\u001b[38;5;241;43m.\u001b[39;49m\u001b[43mstart_session\u001b[49m\u001b[43m(\u001b[49m\u001b[43mcapabilities\u001b[49m\u001b[43m)\u001b[49m\n",
      "File \u001b[1;32mc:\\Rachel\\GitHub\\CPBL_Baseball_ML_project\\.venv\\lib\\site-packages\\selenium\\webdriver\\remote\\webdriver.py:293\u001b[0m, in \u001b[0;36mWebDriver.start_session\u001b[1;34m(self, capabilities)\u001b[0m\n\u001b[0;32m    286\u001b[0m \u001b[38;5;250m\u001b[39m\u001b[38;5;124;03m\"\"\"Creates a new session with the desired capabilities.\u001b[39;00m\n\u001b[0;32m    287\u001b[0m \n\u001b[0;32m    288\u001b[0m \u001b[38;5;124;03m:Args:\u001b[39;00m\n\u001b[0;32m    289\u001b[0m \u001b[38;5;124;03m - capabilities - a capabilities dict to start the session with.\u001b[39;00m\n\u001b[0;32m    290\u001b[0m \u001b[38;5;124;03m\"\"\"\u001b[39;00m\n\u001b[0;32m    292\u001b[0m caps \u001b[38;5;241m=\u001b[39m _create_caps(capabilities)\n\u001b[1;32m--> 293\u001b[0m response \u001b[38;5;241m=\u001b[39m \u001b[38;5;28;43mself\u001b[39;49m\u001b[38;5;241;43m.\u001b[39;49m\u001b[43mexecute\u001b[49m\u001b[43m(\u001b[49m\u001b[43mCommand\u001b[49m\u001b[38;5;241;43m.\u001b[39;49m\u001b[43mNEW_SESSION\u001b[49m\u001b[43m,\u001b[49m\u001b[43m \u001b[49m\u001b[43mcaps\u001b[49m\u001b[43m)\u001b[49m[\u001b[38;5;124m\"\u001b[39m\u001b[38;5;124mvalue\u001b[39m\u001b[38;5;124m\"\u001b[39m]\n\u001b[0;32m    294\u001b[0m \u001b[38;5;28mself\u001b[39m\u001b[38;5;241m.\u001b[39msession_id \u001b[38;5;241m=\u001b[39m response\u001b[38;5;241m.\u001b[39mget(\u001b[38;5;124m\"\u001b[39m\u001b[38;5;124msessionId\u001b[39m\u001b[38;5;124m\"\u001b[39m)\n\u001b[0;32m    295\u001b[0m \u001b[38;5;28mself\u001b[39m\u001b[38;5;241m.\u001b[39mcaps \u001b[38;5;241m=\u001b[39m response\u001b[38;5;241m.\u001b[39mget(\u001b[38;5;124m\"\u001b[39m\u001b[38;5;124mcapabilities\u001b[39m\u001b[38;5;124m\"\u001b[39m)\n",
      "File \u001b[1;32mc:\\Rachel\\GitHub\\CPBL_Baseball_ML_project\\.venv\\lib\\site-packages\\selenium\\webdriver\\remote\\webdriver.py:348\u001b[0m, in \u001b[0;36mWebDriver.execute\u001b[1;34m(self, driver_command, params)\u001b[0m\n\u001b[0;32m    346\u001b[0m response \u001b[38;5;241m=\u001b[39m \u001b[38;5;28mself\u001b[39m\u001b[38;5;241m.\u001b[39mcommand_executor\u001b[38;5;241m.\u001b[39mexecute(driver_command, params)\n\u001b[0;32m    347\u001b[0m \u001b[38;5;28;01mif\u001b[39;00m response:\n\u001b[1;32m--> 348\u001b[0m     \u001b[38;5;28;43mself\u001b[39;49m\u001b[38;5;241;43m.\u001b[39;49m\u001b[43merror_handler\u001b[49m\u001b[38;5;241;43m.\u001b[39;49m\u001b[43mcheck_response\u001b[49m\u001b[43m(\u001b[49m\u001b[43mresponse\u001b[49m\u001b[43m)\u001b[49m\n\u001b[0;32m    349\u001b[0m     response[\u001b[38;5;124m\"\u001b[39m\u001b[38;5;124mvalue\u001b[39m\u001b[38;5;124m\"\u001b[39m] \u001b[38;5;241m=\u001b[39m \u001b[38;5;28mself\u001b[39m\u001b[38;5;241m.\u001b[39m_unwrap_value(response\u001b[38;5;241m.\u001b[39mget(\u001b[38;5;124m\"\u001b[39m\u001b[38;5;124mvalue\u001b[39m\u001b[38;5;124m\"\u001b[39m, \u001b[38;5;28;01mNone\u001b[39;00m))\n\u001b[0;32m    350\u001b[0m     \u001b[38;5;28;01mreturn\u001b[39;00m response\n",
      "File \u001b[1;32mc:\\Rachel\\GitHub\\CPBL_Baseball_ML_project\\.venv\\lib\\site-packages\\selenium\\webdriver\\remote\\errorhandler.py:229\u001b[0m, in \u001b[0;36mErrorHandler.check_response\u001b[1;34m(self, response)\u001b[0m\n\u001b[0;32m    227\u001b[0m         alert_text \u001b[38;5;241m=\u001b[39m value[\u001b[38;5;124m\"\u001b[39m\u001b[38;5;124malert\u001b[39m\u001b[38;5;124m\"\u001b[39m]\u001b[38;5;241m.\u001b[39mget(\u001b[38;5;124m\"\u001b[39m\u001b[38;5;124mtext\u001b[39m\u001b[38;5;124m\"\u001b[39m)\n\u001b[0;32m    228\u001b[0m     \u001b[38;5;28;01mraise\u001b[39;00m exception_class(message, screen, stacktrace, alert_text)  \u001b[38;5;66;03m# type: ignore[call-arg]  # mypy is not smart enough here\u001b[39;00m\n\u001b[1;32m--> 229\u001b[0m \u001b[38;5;28;01mraise\u001b[39;00m exception_class(message, screen, stacktrace)\n",
      "\u001b[1;31mSessionNotCreatedException\u001b[0m: Message: session not created: No matching capabilities found\nStacktrace:\n\tGetHandleVerifier [0x00007FF6CD450382+58194]\n\tMicrosoft::Applications::Events::ILogConfiguration::operator* [0x00007FF6CD3DECE2+216546]\n\t(No symbol) [0x00007FF6CD1F9E1B]\n\t(No symbol) [0x00007FF6CD2749C1]\n\t(No symbol) [0x00007FF6CD273FF6]\n\t(No symbol) [0x00007FF6CD275969]\n\t(No symbol) [0x00007FF6CD26BD43]\n\t(No symbol) [0x00007FF6CD23C162]\n\t(No symbol) [0x00007FF6CD23B5BD]\n\t(No symbol) [0x00007FF6CD23C994]\n\tMicrosoft::Applications::Events::EventProperty::to_string [0x00007FF6CD60726A+1051354]\n\t(No symbol) [0x00007FF6CD2BF596]\n\tMicrosoft::Applications::Events::EventProperty::clear [0x00007FF6CD356205+34245]\n\tMicrosoft::Applications::Events::EventProperty::clear [0x00007FF6CD34E6AD+2669]\n\tMicrosoft::Applications::Events::EventProperty::to_string [0x00007FF6CD605F63+1046483]\n\tMicrosoft::Applications::Events::ILogConfiguration::operator* [0x00007FF6CD3E89C8+256712]\n\tMicrosoft::Applications::Events::ILogConfiguration::operator* [0x00007FF6CD3E4154+238164]\n\tMicrosoft::Applications::Events::ILogConfiguration::operator* [0x00007FF6CD3E4282+238466]\n\tMicrosoft::Applications::Events::ILogConfiguration::operator* [0x00007FF6CD3D9021+192801]\n\tBaseThreadInitThunk [0x00007FF89BD47344+20]\n\tRtlUserThreadStart [0x00007FF89C0426B1+33]\n"
     ]
    }
   ],
   "source": [
    "from selenium import webdriver\n",
    "from selenium.webdriver.common.by import By\n",
    "from selenium.webdriver.support.ui import WebDriverWait\n",
    "from selenium.webdriver.support import expected_conditions as EC\n",
    "\n",
    "# 設定 IEDriverServer 的路徑（請替換為你自己的路徑）\n",
    "driver_path = \"msedgedriver.exe\"\n",
    "\n",
    "# 設定 IEDriverServer 的 Service\n",
    "service = webdriver.ie.service.Service(driver_path)\n",
    "\n",
    "# 初始化 WebDriver\n",
    "driver = webdriver.Ie(service=service)\n",
    "\n",
    "# 前往目標網頁\n",
    "url = \"https://www.cpbl.com.tw/team/person?Acnt=0000005731\"\n",
    "driver.get(url)\n",
    "\n",
    "# 使用 WebDriver 等待元素出現\n",
    "try:\n",
    "    element = WebDriverWait(driver, 10).until(\n",
    "        EC.presence_of_element_located((By.CLASS_NAME, \"RecordTable\"))\n",
    "    )\n",
    "finally:\n",
    "    # 當元素出現後，你可以進行資料的抓取\n",
    "    data = element.text\n",
    "    print(data)\n",
    "\n",
    "# 關閉 WebDriver\n",
    "driver.quit()"
   ]
  }
 ],
 "metadata": {
  "kernelspec": {
   "display_name": ".venv",
   "language": "python",
   "name": "python3"
  },
  "language_info": {
   "codemirror_mode": {
    "name": "ipython",
    "version": 3
   },
   "file_extension": ".py",
   "mimetype": "text/x-python",
   "name": "python",
   "nbconvert_exporter": "python",
   "pygments_lexer": "ipython3",
   "version": "3.10.8"
  }
 },
 "nbformat": 4,
 "nbformat_minor": 2
}
