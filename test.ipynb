{
 "cells": [
  {
   "cell_type": "code",
   "execution_count": 1,
   "metadata": {},
   "outputs": [
    {
     "ename": "Error",
     "evalue": "Executable doesn't exist at /home/vscode/.cache/ms-playwright/chromium-1091/chrome-linux/chrome\n╔════════════════════════════════════════════════════════════╗\n║ Looks like Playwright was just installed or updated.       ║\n║ Please run the following command to download new browsers: ║\n║                                                            ║\n║     playwright install                                     ║\n║                                                            ║\n║ <3 Playwright Team                                         ║\n╚════════════════════════════════════════════════════════════╝",
     "output_type": "error",
     "traceback": [
      "\u001b[0;31m---------------------------------------------------------------------------\u001b[0m",
      "\u001b[0;31mError\u001b[0m                                     Traceback (most recent call last)",
      "\u001b[1;32m/workspaces/CPBL_Baseball_ML_project/test.ipynb 儲存格 1\u001b[0m line \u001b[0;36m3\n\u001b[1;32m     <a href='vscode-notebook-cell://dev-container%2B7b22686f737450617468223a22633a5c5c52616368656c5c5c4769744875625c5c4350424c5f4261736562616c6c5f4d4c5f70726f6a656374222c226c6f63616c446f636b6572223a66616c73652c22636f6e66696746696c65223a7b22246d6964223a312c22667350617468223a22633a5c5c52616368656c5c5c4769744875625c5c4350424c5f4261736562616c6c5f4d4c5f70726f6a6563745c5c2e646576636f6e7461696e65725c5c646576636f6e7461696e65722e6a736f6e222c225f736570223a312c2265787465726e616c223a2266696c653a2f2f2f632533412f52616368656c2f4769744875622f4350424c5f4261736562616c6c5f4d4c5f70726f6a6563742f2e646576636f6e7461696e65722f646576636f6e7461696e65722e6a736f6e222c2270617468223a222f633a2f52616368656c2f4769744875622f4350424c5f4261736562616c6c5f4d4c5f70726f6a6563742f2e646576636f6e7461696e65722f646576636f6e7461696e65722e6a736f6e222c22736368656d65223a2266696c65227d7d/workspaces/CPBL_Baseball_ML_project/test.ipynb#W0sdnNjb2RlLXJlbW90ZQ%3D%3D?line=27'>28</a>\u001b[0m         \u001b[39mawait\u001b[39;00m browser\u001b[39m.\u001b[39mclose()\n\u001b[1;32m     <a href='vscode-notebook-cell://dev-container%2B7b22686f737450617468223a22633a5c5c52616368656c5c5c4769744875625c5c4350424c5f4261736562616c6c5f4d4c5f70726f6a656374222c226c6f63616c446f636b6572223a66616c73652c22636f6e66696746696c65223a7b22246d6964223a312c22667350617468223a22633a5c5c52616368656c5c5c4769744875625c5c4350424c5f4261736562616c6c5f4d4c5f70726f6a6563745c5c2e646576636f6e7461696e65725c5c646576636f6e7461696e65722e6a736f6e222c225f736570223a312c2265787465726e616c223a2266696c653a2f2f2f632533412f52616368656c2f4769744875622f4350424c5f4261736562616c6c5f4d4c5f70726f6a6563742f2e646576636f6e7461696e65722f646576636f6e7461696e65722e6a736f6e222c2270617468223a222f633a2f52616368656c2f4769744875622f4350424c5f4261736562616c6c5f4d4c5f70726f6a6563742f2e646576636f6e7461696e65722f646576636f6e7461696e65722e6a736f6e222c22736368656d65223a2266696c65227d7d/workspaces/CPBL_Baseball_ML_project/test.ipynb#W0sdnNjb2RlLXJlbW90ZQ%3D%3D?line=29'>30</a>\u001b[0m \u001b[39m# 運行非同步程序\u001b[39;00m\n\u001b[0;32m---> <a href='vscode-notebook-cell://dev-container%2B7b22686f737450617468223a22633a5c5c52616368656c5c5c4769744875625c5c4350424c5f4261736562616c6c5f4d4c5f70726f6a656374222c226c6f63616c446f636b6572223a66616c73652c22636f6e66696746696c65223a7b22246d6964223a312c22667350617468223a22633a5c5c52616368656c5c5c4769744875625c5c4350424c5f4261736562616c6c5f4d4c5f70726f6a6563745c5c2e646576636f6e7461696e65725c5c646576636f6e7461696e65722e6a736f6e222c225f736570223a312c2265787465726e616c223a2266696c653a2f2f2f632533412f52616368656c2f4769744875622f4350424c5f4261736562616c6c5f4d4c5f70726f6a6563742f2e646576636f6e7461696e65722f646576636f6e7461696e65722e6a736f6e222c2270617468223a222f633a2f52616368656c2f4769744875622f4350424c5f4261736562616c6c5f4d4c5f70726f6a6563742f2e646576636f6e7461696e65722f646576636f6e7461696e65722e6a736f6e222c22736368656d65223a2266696c65227d7d/workspaces/CPBL_Baseball_ML_project/test.ipynb#W0sdnNjb2RlLXJlbW90ZQ%3D%3D?line=30'>31</a>\u001b[0m \u001b[39mawait\u001b[39;00m main()\n",
      "\u001b[1;32m/workspaces/CPBL_Baseball_ML_project/test.ipynb 儲存格 1\u001b[0m line \u001b[0;36m8\n\u001b[1;32m      <a href='vscode-notebook-cell://dev-container%2B7b22686f737450617468223a22633a5c5c52616368656c5c5c4769744875625c5c4350424c5f4261736562616c6c5f4d4c5f70726f6a656374222c226c6f63616c446f636b6572223a66616c73652c22636f6e66696746696c65223a7b22246d6964223a312c22667350617468223a22633a5c5c52616368656c5c5c4769744875625c5c4350424c5f4261736562616c6c5f4d4c5f70726f6a6563745c5c2e646576636f6e7461696e65725c5c646576636f6e7461696e65722e6a736f6e222c225f736570223a312c2265787465726e616c223a2266696c653a2f2f2f632533412f52616368656c2f4769744875622f4350424c5f4261736562616c6c5f4d4c5f70726f6a6563742f2e646576636f6e7461696e65722f646576636f6e7461696e65722e6a736f6e222c2270617468223a222f633a2f52616368656c2f4769744875622f4350424c5f4261736562616c6c5f4d4c5f70726f6a6563742f2e646576636f6e7461696e65722f646576636f6e7461696e65722e6a736f6e222c22736368656d65223a2266696c65227d7d/workspaces/CPBL_Baseball_ML_project/test.ipynb#W0sdnNjb2RlLXJlbW90ZQ%3D%3D?line=5'>6</a>\u001b[0m \u001b[39masync\u001b[39;00m \u001b[39mdef\u001b[39;00m \u001b[39mmain\u001b[39m():\n\u001b[1;32m      <a href='vscode-notebook-cell://dev-container%2B7b22686f737450617468223a22633a5c5c52616368656c5c5c4769744875625c5c4350424c5f4261736562616c6c5f4d4c5f70726f6a656374222c226c6f63616c446f636b6572223a66616c73652c22636f6e66696746696c65223a7b22246d6964223a312c22667350617468223a22633a5c5c52616368656c5c5c4769744875625c5c4350424c5f4261736562616c6c5f4d4c5f70726f6a6563745c5c2e646576636f6e7461696e65725c5c646576636f6e7461696e65722e6a736f6e222c225f736570223a312c2265787465726e616c223a2266696c653a2f2f2f632533412f52616368656c2f4769744875622f4350424c5f4261736562616c6c5f4d4c5f70726f6a6563742f2e646576636f6e7461696e65722f646576636f6e7461696e65722e6a736f6e222c2270617468223a222f633a2f52616368656c2f4769744875622f4350424c5f4261736562616c6c5f4d4c5f70726f6a6563742f2e646576636f6e7461696e65722f646576636f6e7461696e65722e6a736f6e222c22736368656d65223a2266696c65227d7d/workspaces/CPBL_Baseball_ML_project/test.ipynb#W0sdnNjb2RlLXJlbW90ZQ%3D%3D?line=6'>7</a>\u001b[0m     \u001b[39masync\u001b[39;00m \u001b[39mwith\u001b[39;00m async_playwright() \u001b[39mas\u001b[39;00m p:\n\u001b[0;32m----> <a href='vscode-notebook-cell://dev-container%2B7b22686f737450617468223a22633a5c5c52616368656c5c5c4769744875625c5c4350424c5f4261736562616c6c5f4d4c5f70726f6a656374222c226c6f63616c446f636b6572223a66616c73652c22636f6e66696746696c65223a7b22246d6964223a312c22667350617468223a22633a5c5c52616368656c5c5c4769744875625c5c4350424c5f4261736562616c6c5f4d4c5f70726f6a6563745c5c2e646576636f6e7461696e65725c5c646576636f6e7461696e65722e6a736f6e222c225f736570223a312c2265787465726e616c223a2266696c653a2f2f2f632533412f52616368656c2f4769744875622f4350424c5f4261736562616c6c5f4d4c5f70726f6a6563742f2e646576636f6e7461696e65722f646576636f6e7461696e65722e6a736f6e222c2270617468223a222f633a2f52616368656c2f4769744875622f4350424c5f4261736562616c6c5f4d4c5f70726f6a6563742f2e646576636f6e7461696e65722f646576636f6e7461696e65722e6a736f6e222c22736368656d65223a2266696c65227d7d/workspaces/CPBL_Baseball_ML_project/test.ipynb#W0sdnNjb2RlLXJlbW90ZQ%3D%3D?line=7'>8</a>\u001b[0m         browser \u001b[39m=\u001b[39m \u001b[39mawait\u001b[39;00m p\u001b[39m.\u001b[39mchromium\u001b[39m.\u001b[39mlaunch()\n\u001b[1;32m      <a href='vscode-notebook-cell://dev-container%2B7b22686f737450617468223a22633a5c5c52616368656c5c5c4769744875625c5c4350424c5f4261736562616c6c5f4d4c5f70726f6a656374222c226c6f63616c446f636b6572223a66616c73652c22636f6e66696746696c65223a7b22246d6964223a312c22667350617468223a22633a5c5c52616368656c5c5c4769744875625c5c4350424c5f4261736562616c6c5f4d4c5f70726f6a6563745c5c2e646576636f6e7461696e65725c5c646576636f6e7461696e65722e6a736f6e222c225f736570223a312c2265787465726e616c223a2266696c653a2f2f2f632533412f52616368656c2f4769744875622f4350424c5f4261736562616c6c5f4d4c5f70726f6a6563742f2e646576636f6e7461696e65722f646576636f6e7461696e65722e6a736f6e222c2270617468223a222f633a2f52616368656c2f4769744875622f4350424c5f4261736562616c6c5f4d4c5f70726f6a6563742f2e646576636f6e7461696e65722f646576636f6e7461696e65722e6a736f6e222c22736368656d65223a2266696c65227d7d/workspaces/CPBL_Baseball_ML_project/test.ipynb#W0sdnNjb2RlLXJlbW90ZQ%3D%3D?line=8'>9</a>\u001b[0m         page \u001b[39m=\u001b[39m \u001b[39mawait\u001b[39;00m browser\u001b[39m.\u001b[39mnew_page()\n\u001b[1;32m     <a href='vscode-notebook-cell://dev-container%2B7b22686f737450617468223a22633a5c5c52616368656c5c5c4769744875625c5c4350424c5f4261736562616c6c5f4d4c5f70726f6a656374222c226c6f63616c446f636b6572223a66616c73652c22636f6e66696746696c65223a7b22246d6964223a312c22667350617468223a22633a5c5c52616368656c5c5c4769744875625c5c4350424c5f4261736562616c6c5f4d4c5f70726f6a6563745c5c2e646576636f6e7461696e65725c5c646576636f6e7461696e65722e6a736f6e222c225f736570223a312c2265787465726e616c223a2266696c653a2f2f2f632533412f52616368656c2f4769744875622f4350424c5f4261736562616c6c5f4d4c5f70726f6a6563742f2e646576636f6e7461696e65722f646576636f6e7461696e65722e6a736f6e222c2270617468223a222f633a2f52616368656c2f4769744875622f4350424c5f4261736562616c6c5f4d4c5f70726f6a6563742f2e646576636f6e7461696e65722f646576636f6e7461696e65722e6a736f6e222c22736368656d65223a2266696c65227d7d/workspaces/CPBL_Baseball_ML_project/test.ipynb#W0sdnNjb2RlLXJlbW90ZQ%3D%3D?line=10'>11</a>\u001b[0m         \u001b[39m# 訪問指定的網頁\u001b[39;00m\n",
      "File \u001b[0;32m~/.local/lib/python3.10/site-packages/playwright/async_api/_generated.py:14740\u001b[0m, in \u001b[0;36mBrowserType.launch\u001b[0;34m(self, executable_path, channel, args, ignore_default_args, handle_sigint, handle_sigterm, handle_sighup, timeout, env, headless, devtools, proxy, downloads_path, slow_mo, traces_dir, chromium_sandbox, firefox_user_prefs)\u001b[0m\n\u001b[1;32m  14622\u001b[0m \u001b[39masync\u001b[39;00m \u001b[39mdef\u001b[39;00m \u001b[39mlaunch\u001b[39m(\n\u001b[1;32m  14623\u001b[0m     \u001b[39mself\u001b[39m,\n\u001b[1;32m  14624\u001b[0m     \u001b[39m*\u001b[39m,\n\u001b[0;32m   (...)\u001b[0m\n\u001b[1;32m  14645\u001b[0m     ] \u001b[39m=\u001b[39m \u001b[39mNone\u001b[39;00m\n\u001b[1;32m  14646\u001b[0m ) \u001b[39m-\u001b[39m\u001b[39m>\u001b[39m \u001b[39m\"\u001b[39m\u001b[39mBrowser\u001b[39m\u001b[39m\"\u001b[39m:\n\u001b[1;32m  14647\u001b[0m \u001b[39m    \u001b[39m\u001b[39m\"\"\"BrowserType.launch\u001b[39;00m\n\u001b[1;32m  14648\u001b[0m \n\u001b[1;32m  14649\u001b[0m \u001b[39m    Returns the browser instance.\u001b[39;00m\n\u001b[0;32m   (...)\u001b[0m\n\u001b[1;32m  14736\u001b[0m \u001b[39m    Browser\u001b[39;00m\n\u001b[1;32m  14737\u001b[0m \u001b[39m    \"\"\"\u001b[39;00m\n\u001b[1;32m  14739\u001b[0m     \u001b[39mreturn\u001b[39;00m mapping\u001b[39m.\u001b[39mfrom_impl(\n\u001b[0;32m> 14740\u001b[0m         \u001b[39mawait\u001b[39;00m \u001b[39mself\u001b[39m\u001b[39m.\u001b[39m_impl_obj\u001b[39m.\u001b[39mlaunch(\n\u001b[1;32m  14741\u001b[0m             executablePath\u001b[39m=\u001b[39mexecutable_path,\n\u001b[1;32m  14742\u001b[0m             channel\u001b[39m=\u001b[39mchannel,\n\u001b[1;32m  14743\u001b[0m             args\u001b[39m=\u001b[39mmapping\u001b[39m.\u001b[39mto_impl(args),\n\u001b[1;32m  14744\u001b[0m             ignoreDefaultArgs\u001b[39m=\u001b[39mmapping\u001b[39m.\u001b[39mto_impl(ignore_default_args),\n\u001b[1;32m  14745\u001b[0m             handleSIGINT\u001b[39m=\u001b[39mhandle_sigint,\n\u001b[1;32m  14746\u001b[0m             handleSIGTERM\u001b[39m=\u001b[39mhandle_sigterm,\n\u001b[1;32m  14747\u001b[0m             handleSIGHUP\u001b[39m=\u001b[39mhandle_sighup,\n\u001b[1;32m  14748\u001b[0m             timeout\u001b[39m=\u001b[39mtimeout,\n\u001b[1;32m  14749\u001b[0m             env\u001b[39m=\u001b[39mmapping\u001b[39m.\u001b[39mto_impl(env),\n\u001b[1;32m  14750\u001b[0m             headless\u001b[39m=\u001b[39mheadless,\n\u001b[1;32m  14751\u001b[0m             devtools\u001b[39m=\u001b[39mdevtools,\n\u001b[1;32m  14752\u001b[0m             proxy\u001b[39m=\u001b[39mproxy,\n\u001b[1;32m  14753\u001b[0m             downloadsPath\u001b[39m=\u001b[39mdownloads_path,\n\u001b[1;32m  14754\u001b[0m             slowMo\u001b[39m=\u001b[39mslow_mo,\n\u001b[1;32m  14755\u001b[0m             tracesDir\u001b[39m=\u001b[39mtraces_dir,\n\u001b[1;32m  14756\u001b[0m             chromiumSandbox\u001b[39m=\u001b[39mchromium_sandbox,\n\u001b[1;32m  14757\u001b[0m             firefoxUserPrefs\u001b[39m=\u001b[39mmapping\u001b[39m.\u001b[39mto_impl(firefox_user_prefs),\n\u001b[1;32m  14758\u001b[0m         )\n\u001b[1;32m  14759\u001b[0m     )\n",
      "File \u001b[0;32m~/.local/lib/python3.10/site-packages/playwright/_impl/_browser_type.py:95\u001b[0m, in \u001b[0;36mBrowserType.launch\u001b[0;34m(self, executablePath, channel, args, ignoreDefaultArgs, handleSIGINT, handleSIGTERM, handleSIGHUP, timeout, env, headless, devtools, proxy, downloadsPath, slowMo, tracesDir, chromiumSandbox, firefoxUserPrefs)\u001b[0m\n\u001b[1;32m     92\u001b[0m params \u001b[39m=\u001b[39m locals_to_params(\u001b[39mlocals\u001b[39m())\n\u001b[1;32m     93\u001b[0m normalize_launch_params(params)\n\u001b[1;32m     94\u001b[0m browser \u001b[39m=\u001b[39m cast(\n\u001b[0;32m---> 95\u001b[0m     Browser, from_channel(\u001b[39mawait\u001b[39;00m \u001b[39mself\u001b[39m\u001b[39m.\u001b[39m_channel\u001b[39m.\u001b[39msend(\u001b[39m\"\u001b[39m\u001b[39mlaunch\u001b[39m\u001b[39m\"\u001b[39m, params))\n\u001b[1;32m     96\u001b[0m )\n\u001b[1;32m     97\u001b[0m \u001b[39mself\u001b[39m\u001b[39m.\u001b[39m_did_launch_browser(browser)\n\u001b[1;32m     98\u001b[0m \u001b[39mreturn\u001b[39;00m browser\n",
      "File \u001b[0;32m~/.local/lib/python3.10/site-packages/playwright/_impl/_connection.py:62\u001b[0m, in \u001b[0;36mChannel.send\u001b[0;34m(self, method, params)\u001b[0m\n\u001b[1;32m     61\u001b[0m \u001b[39masync\u001b[39;00m \u001b[39mdef\u001b[39;00m \u001b[39msend\u001b[39m(\u001b[39mself\u001b[39m, method: \u001b[39mstr\u001b[39m, params: Dict \u001b[39m=\u001b[39m \u001b[39mNone\u001b[39;00m) \u001b[39m-\u001b[39m\u001b[39m>\u001b[39m Any:\n\u001b[0;32m---> 62\u001b[0m     \u001b[39mreturn\u001b[39;00m \u001b[39mawait\u001b[39;00m \u001b[39mself\u001b[39m\u001b[39m.\u001b[39m_connection\u001b[39m.\u001b[39mwrap_api_call(\n\u001b[1;32m     63\u001b[0m         \u001b[39mlambda\u001b[39;00m: \u001b[39mself\u001b[39m\u001b[39m.\u001b[39minner_send(method, params, \u001b[39mFalse\u001b[39;00m)\n\u001b[1;32m     64\u001b[0m     )\n",
      "File \u001b[0;32m~/.local/lib/python3.10/site-packages/playwright/_impl/_connection.py:492\u001b[0m, in \u001b[0;36mConnection.wrap_api_call\u001b[0;34m(self, cb, is_internal)\u001b[0m\n\u001b[1;32m    490\u001b[0m \u001b[39mself\u001b[39m\u001b[39m.\u001b[39m_api_zone\u001b[39m.\u001b[39mset(_extract_stack_trace_information_from_stack(st, is_internal))\n\u001b[1;32m    491\u001b[0m \u001b[39mtry\u001b[39;00m:\n\u001b[0;32m--> 492\u001b[0m     \u001b[39mreturn\u001b[39;00m \u001b[39mawait\u001b[39;00m cb()\n\u001b[1;32m    493\u001b[0m \u001b[39mfinally\u001b[39;00m:\n\u001b[1;32m    494\u001b[0m     \u001b[39mself\u001b[39m\u001b[39m.\u001b[39m_api_zone\u001b[39m.\u001b[39mset(\u001b[39mNone\u001b[39;00m)\n",
      "File \u001b[0;32m~/.local/lib/python3.10/site-packages/playwright/_impl/_connection.py:100\u001b[0m, in \u001b[0;36mChannel.inner_send\u001b[0;34m(self, method, params, return_as_dict)\u001b[0m\n\u001b[1;32m     98\u001b[0m \u001b[39mif\u001b[39;00m \u001b[39mnot\u001b[39;00m callback\u001b[39m.\u001b[39mfuture\u001b[39m.\u001b[39mdone():\n\u001b[1;32m     99\u001b[0m     callback\u001b[39m.\u001b[39mfuture\u001b[39m.\u001b[39mcancel()\n\u001b[0;32m--> 100\u001b[0m result \u001b[39m=\u001b[39m \u001b[39mnext\u001b[39;49m(\u001b[39miter\u001b[39;49m(done))\u001b[39m.\u001b[39;49mresult()\n\u001b[1;32m    101\u001b[0m \u001b[39m# Protocol now has named return values, assume result is one level deeper unless\u001b[39;00m\n\u001b[1;32m    102\u001b[0m \u001b[39m# there is explicit ambiguity.\u001b[39;00m\n\u001b[1;32m    103\u001b[0m \u001b[39mif\u001b[39;00m \u001b[39mnot\u001b[39;00m result:\n",
      "File \u001b[0;32m/usr/local/lib/python3.10/asyncio/futures.py:201\u001b[0m, in \u001b[0;36mFuture.result\u001b[0;34m(self)\u001b[0m\n\u001b[1;32m    199\u001b[0m \u001b[39mself\u001b[39m\u001b[39m.\u001b[39m__log_traceback \u001b[39m=\u001b[39m \u001b[39mFalse\u001b[39;00m\n\u001b[1;32m    200\u001b[0m \u001b[39mif\u001b[39;00m \u001b[39mself\u001b[39m\u001b[39m.\u001b[39m_exception \u001b[39mis\u001b[39;00m \u001b[39mnot\u001b[39;00m \u001b[39mNone\u001b[39;00m:\n\u001b[0;32m--> 201\u001b[0m     \u001b[39mraise\u001b[39;00m \u001b[39mself\u001b[39m\u001b[39m.\u001b[39m_exception\u001b[39m.\u001b[39mwith_traceback(\u001b[39mself\u001b[39m\u001b[39m.\u001b[39m_exception_tb)\n\u001b[1;32m    202\u001b[0m \u001b[39mreturn\u001b[39;00m \u001b[39mself\u001b[39m\u001b[39m.\u001b[39m_result\n",
      "\u001b[0;31mError\u001b[0m: Executable doesn't exist at /home/vscode/.cache/ms-playwright/chromium-1091/chrome-linux/chrome\n╔════════════════════════════════════════════════════════════╗\n║ Looks like Playwright was just installed or updated.       ║\n║ Please run the following command to download new browsers: ║\n║                                                            ║\n║     playwright install                                     ║\n║                                                            ║\n║ <3 Playwright Team                                         ║\n╚════════════════════════════════════════════════════════════╝"
     ]
    }
   ],
   "source": [
    "import nest_asyncio\n",
    "nest_asyncio.apply()\n",
    "\n",
    "from playwright.async_api import async_playwright\n",
    "\n",
    "async def main():\n",
    "    async with async_playwright() as p:\n",
    "        browser = await p.chromium.launch()\n",
    "        page = await browser.new_page()\n",
    "\n",
    "        # 訪問指定的網頁\n",
    "        await page.goto('https://www.cpbl.com.tw/team/apart?Acnt=0000000158')\n",
    "\n",
    "        # 選擇下拉選單（這裡僅是一個示例，請根據實際情況修改）\n",
    "        await page.select_option('select#dropdown', 'OptionValue')\n",
    "\n",
    "        # 點擊按鈕\n",
    "        await page.click('button#searchButton')\n",
    "\n",
    "        # 等待一些時間，確保頁面已經加載完畢\n",
    "        await page.wait_for_timeout(3000)\n",
    "\n",
    "        # 爬取資料\n",
    "        data = await page.evaluate('document.querySelector(\"body\").innerHTML')\n",
    "        print(data)\n",
    "\n",
    "        # 關閉瀏覽器\n",
    "        await browser.close()\n",
    "\n",
    "# 運行非同步程序\n",
    "await main()\n"
   ]
  },
  {
   "cell_type": "code",
   "execution_count": 4,
   "metadata": {},
   "outputs": [
    {
     "ename": "WebDriverException",
     "evalue": "Message: Process unexpectedly closed with status 255\n",
     "output_type": "error",
     "traceback": [
      "\u001b[0;31m---------------------------------------------------------------------------\u001b[0m",
      "\u001b[0;31mWebDriverException\u001b[0m                        Traceback (most recent call last)",
      "\u001b[1;32m/workspaces/CPBL_Baseball_ML_project/test.ipynb 儲存格 2\u001b[0m line \u001b[0;36m9\n\u001b[1;32m      <a href='vscode-notebook-cell://dev-container%2B7b22686f737450617468223a22633a5c5c52616368656c5c5c4769744875625c5c4350424c5f4261736562616c6c5f4d4c5f70726f6a656374222c226c6f63616c446f636b6572223a66616c73652c22636f6e66696746696c65223a7b22246d6964223a312c22667350617468223a22633a5c5c52616368656c5c5c4769744875625c5c4350424c5f4261736562616c6c5f4d4c5f70726f6a6563745c5c2e646576636f6e7461696e65725c5c646576636f6e7461696e65722e6a736f6e222c225f736570223a312c2265787465726e616c223a2266696c653a2f2f2f632533412f52616368656c2f4769744875622f4350424c5f4261736562616c6c5f4d4c5f70726f6a6563742f2e646576636f6e7461696e65722f646576636f6e7461696e65722e6a736f6e222c2270617468223a222f633a2f52616368656c2f4769744875622f4350424c5f4261736562616c6c5f4d4c5f70726f6a6563742f2e646576636f6e7461696e65722f646576636f6e7461696e65722e6a736f6e222c22736368656d65223a2266696c65227d7d/workspaces/CPBL_Baseball_ML_project/test.ipynb#W1sdnNjb2RlLXJlbW90ZQ%3D%3D?line=5'>6</a>\u001b[0m \u001b[39mfrom\u001b[39;00m \u001b[39mbs4\u001b[39;00m \u001b[39mimport\u001b[39;00m BeautifulSoup\n\u001b[1;32m      <a href='vscode-notebook-cell://dev-container%2B7b22686f737450617468223a22633a5c5c52616368656c5c5c4769744875625c5c4350424c5f4261736562616c6c5f4d4c5f70726f6a656374222c226c6f63616c446f636b6572223a66616c73652c22636f6e66696746696c65223a7b22246d6964223a312c22667350617468223a22633a5c5c52616368656c5c5c4769744875625c5c4350424c5f4261736562616c6c5f4d4c5f70726f6a6563745c5c2e646576636f6e7461696e65725c5c646576636f6e7461696e65722e6a736f6e222c225f736570223a312c2265787465726e616c223a2266696c653a2f2f2f632533412f52616368656c2f4769744875622f4350424c5f4261736562616c6c5f4d4c5f70726f6a6563742f2e646576636f6e7461696e65722f646576636f6e7461696e65722e6a736f6e222c2270617468223a222f633a2f52616368656c2f4769744875622f4350424c5f4261736562616c6c5f4d4c5f70726f6a6563742f2e646576636f6e7461696e65722f646576636f6e7461696e65722e6a736f6e222c22736368656d65223a2266696c65227d7d/workspaces/CPBL_Baseball_ML_project/test.ipynb#W1sdnNjb2RlLXJlbW90ZQ%3D%3D?line=7'>8</a>\u001b[0m \u001b[39m# 啟動 Firefox 瀏覽器\u001b[39;00m\n\u001b[0;32m----> <a href='vscode-notebook-cell://dev-container%2B7b22686f737450617468223a22633a5c5c52616368656c5c5c4769744875625c5c4350424c5f4261736562616c6c5f4d4c5f70726f6a656374222c226c6f63616c446f636b6572223a66616c73652c22636f6e66696746696c65223a7b22246d6964223a312c22667350617468223a22633a5c5c52616368656c5c5c4769744875625c5c4350424c5f4261736562616c6c5f4d4c5f70726f6a6563745c5c2e646576636f6e7461696e65725c5c646576636f6e7461696e65722e6a736f6e222c225f736570223a312c2265787465726e616c223a2266696c653a2f2f2f632533412f52616368656c2f4769744875622f4350424c5f4261736562616c6c5f4d4c5f70726f6a6563742f2e646576636f6e7461696e65722f646576636f6e7461696e65722e6a736f6e222c2270617468223a222f633a2f52616368656c2f4769744875622f4350424c5f4261736562616c6c5f4d4c5f70726f6a6563742f2e646576636f6e7461696e65722f646576636f6e7461696e65722e6a736f6e222c22736368656d65223a2266696c65227d7d/workspaces/CPBL_Baseball_ML_project/test.ipynb#W1sdnNjb2RlLXJlbW90ZQ%3D%3D?line=8'>9</a>\u001b[0m driver \u001b[39m=\u001b[39m webdriver\u001b[39m.\u001b[39;49mFirefox()\n\u001b[1;32m     <a href='vscode-notebook-cell://dev-container%2B7b22686f737450617468223a22633a5c5c52616368656c5c5c4769744875625c5c4350424c5f4261736562616c6c5f4d4c5f70726f6a656374222c226c6f63616c446f636b6572223a66616c73652c22636f6e66696746696c65223a7b22246d6964223a312c22667350617468223a22633a5c5c52616368656c5c5c4769744875625c5c4350424c5f4261736562616c6c5f4d4c5f70726f6a6563745c5c2e646576636f6e7461696e65725c5c646576636f6e7461696e65722e6a736f6e222c225f736570223a312c2265787465726e616c223a2266696c653a2f2f2f632533412f52616368656c2f4769744875622f4350424c5f4261736562616c6c5f4d4c5f70726f6a6563742f2e646576636f6e7461696e65722f646576636f6e7461696e65722e6a736f6e222c2270617468223a222f633a2f52616368656c2f4769744875622f4350424c5f4261736562616c6c5f4d4c5f70726f6a6563742f2e646576636f6e7461696e65722f646576636f6e7461696e65722e6a736f6e222c22736368656d65223a2266696c65227d7d/workspaces/CPBL_Baseball_ML_project/test.ipynb#W1sdnNjb2RlLXJlbW90ZQ%3D%3D?line=10'>11</a>\u001b[0m \u001b[39mtry\u001b[39;00m:\n\u001b[1;32m     <a href='vscode-notebook-cell://dev-container%2B7b22686f737450617468223a22633a5c5c52616368656c5c5c4769744875625c5c4350424c5f4261736562616c6c5f4d4c5f70726f6a656374222c226c6f63616c446f636b6572223a66616c73652c22636f6e66696746696c65223a7b22246d6964223a312c22667350617468223a22633a5c5c52616368656c5c5c4769744875625c5c4350424c5f4261736562616c6c5f4d4c5f70726f6a6563745c5c2e646576636f6e7461696e65725c5c646576636f6e7461696e65722e6a736f6e222c225f736570223a312c2265787465726e616c223a2266696c653a2f2f2f632533412f52616368656c2f4769744875622f4350424c5f4261736562616c6c5f4d4c5f70726f6a6563742f2e646576636f6e7461696e65722f646576636f6e7461696e65722e6a736f6e222c2270617468223a222f633a2f52616368656c2f4769744875622f4350424c5f4261736562616c6c5f4d4c5f70726f6a6563742f2e646576636f6e7461696e65722f646576636f6e7461696e65722e6a736f6e222c22736368656d65223a2266696c65227d7d/workspaces/CPBL_Baseball_ML_project/test.ipynb#W1sdnNjb2RlLXJlbW90ZQ%3D%3D?line=11'>12</a>\u001b[0m     \u001b[39m# 前往目標網頁\u001b[39;00m\n\u001b[1;32m     <a href='vscode-notebook-cell://dev-container%2B7b22686f737450617468223a22633a5c5c52616368656c5c5c4769744875625c5c4350424c5f4261736562616c6c5f4d4c5f70726f6a656374222c226c6f63616c446f636b6572223a66616c73652c22636f6e66696746696c65223a7b22246d6964223a312c22667350617468223a22633a5c5c52616368656c5c5c4769744875625c5c4350424c5f4261736562616c6c5f4d4c5f70726f6a6563745c5c2e646576636f6e7461696e65725c5c646576636f6e7461696e65722e6a736f6e222c225f736570223a312c2265787465726e616c223a2266696c653a2f2f2f632533412f52616368656c2f4769744875622f4350424c5f4261736562616c6c5f4d4c5f70726f6a6563742f2e646576636f6e7461696e65722f646576636f6e7461696e65722e6a736f6e222c2270617468223a222f633a2f52616368656c2f4769744875622f4350424c5f4261736562616c6c5f4d4c5f70726f6a6563742f2e646576636f6e7461696e65722f646576636f6e7461696e65722e6a736f6e222c22736368656d65223a2266696c65227d7d/workspaces/CPBL_Baseball_ML_project/test.ipynb#W1sdnNjb2RlLXJlbW90ZQ%3D%3D?line=12'>13</a>\u001b[0m     url \u001b[39m=\u001b[39m \u001b[39m\"\u001b[39m\u001b[39mhttps://www.cpbl.com.tw/team/apart?Acnt=0000002297\u001b[39m\u001b[39m\"\u001b[39m\n",
      "File \u001b[0;32m~/.local/lib/python3.10/site-packages/selenium/webdriver/firefox/webdriver.py:69\u001b[0m, in \u001b[0;36mWebDriver.__init__\u001b[0;34m(self, options, service, keep_alive)\u001b[0m\n\u001b[1;32m     62\u001b[0m executor \u001b[39m=\u001b[39m FirefoxRemoteConnection(\n\u001b[1;32m     63\u001b[0m     remote_server_addr\u001b[39m=\u001b[39m\u001b[39mself\u001b[39m\u001b[39m.\u001b[39mservice\u001b[39m.\u001b[39mservice_url,\n\u001b[1;32m     64\u001b[0m     keep_alive\u001b[39m=\u001b[39mkeep_alive,\n\u001b[1;32m     65\u001b[0m     ignore_proxy\u001b[39m=\u001b[39moptions\u001b[39m.\u001b[39m_ignore_local_proxy,\n\u001b[1;32m     66\u001b[0m )\n\u001b[1;32m     68\u001b[0m \u001b[39mtry\u001b[39;00m:\n\u001b[0;32m---> 69\u001b[0m     \u001b[39msuper\u001b[39;49m()\u001b[39m.\u001b[39;49m\u001b[39m__init__\u001b[39;49m(command_executor\u001b[39m=\u001b[39;49mexecutor, options\u001b[39m=\u001b[39;49moptions)\n\u001b[1;32m     70\u001b[0m \u001b[39mexcept\u001b[39;00m \u001b[39mException\u001b[39;00m:\n\u001b[1;32m     71\u001b[0m     \u001b[39mself\u001b[39m\u001b[39m.\u001b[39mquit()\n",
      "File \u001b[0;32m~/.local/lib/python3.10/site-packages/selenium/webdriver/remote/webdriver.py:209\u001b[0m, in \u001b[0;36mWebDriver.__init__\u001b[0;34m(self, command_executor, keep_alive, file_detector, options)\u001b[0m\n\u001b[1;32m    207\u001b[0m \u001b[39mself\u001b[39m\u001b[39m.\u001b[39m_authenticator_id \u001b[39m=\u001b[39m \u001b[39mNone\u001b[39;00m\n\u001b[1;32m    208\u001b[0m \u001b[39mself\u001b[39m\u001b[39m.\u001b[39mstart_client()\n\u001b[0;32m--> 209\u001b[0m \u001b[39mself\u001b[39;49m\u001b[39m.\u001b[39;49mstart_session(capabilities)\n",
      "File \u001b[0;32m~/.local/lib/python3.10/site-packages/selenium/webdriver/remote/webdriver.py:293\u001b[0m, in \u001b[0;36mWebDriver.start_session\u001b[0;34m(self, capabilities)\u001b[0m\n\u001b[1;32m    286\u001b[0m \u001b[39m\u001b[39m\u001b[39m\"\"\"Creates a new session with the desired capabilities.\u001b[39;00m\n\u001b[1;32m    287\u001b[0m \n\u001b[1;32m    288\u001b[0m \u001b[39m:Args:\u001b[39;00m\n\u001b[1;32m    289\u001b[0m \u001b[39m - capabilities - a capabilities dict to start the session with.\u001b[39;00m\n\u001b[1;32m    290\u001b[0m \u001b[39m\"\"\"\u001b[39;00m\n\u001b[1;32m    292\u001b[0m caps \u001b[39m=\u001b[39m _create_caps(capabilities)\n\u001b[0;32m--> 293\u001b[0m response \u001b[39m=\u001b[39m \u001b[39mself\u001b[39;49m\u001b[39m.\u001b[39;49mexecute(Command\u001b[39m.\u001b[39;49mNEW_SESSION, caps)[\u001b[39m\"\u001b[39m\u001b[39mvalue\u001b[39m\u001b[39m\"\u001b[39m]\n\u001b[1;32m    294\u001b[0m \u001b[39mself\u001b[39m\u001b[39m.\u001b[39msession_id \u001b[39m=\u001b[39m response\u001b[39m.\u001b[39mget(\u001b[39m\"\u001b[39m\u001b[39msessionId\u001b[39m\u001b[39m\"\u001b[39m)\n\u001b[1;32m    295\u001b[0m \u001b[39mself\u001b[39m\u001b[39m.\u001b[39mcaps \u001b[39m=\u001b[39m response\u001b[39m.\u001b[39mget(\u001b[39m\"\u001b[39m\u001b[39mcapabilities\u001b[39m\u001b[39m\"\u001b[39m)\n",
      "File \u001b[0;32m~/.local/lib/python3.10/site-packages/selenium/webdriver/remote/webdriver.py:348\u001b[0m, in \u001b[0;36mWebDriver.execute\u001b[0;34m(self, driver_command, params)\u001b[0m\n\u001b[1;32m    346\u001b[0m response \u001b[39m=\u001b[39m \u001b[39mself\u001b[39m\u001b[39m.\u001b[39mcommand_executor\u001b[39m.\u001b[39mexecute(driver_command, params)\n\u001b[1;32m    347\u001b[0m \u001b[39mif\u001b[39;00m response:\n\u001b[0;32m--> 348\u001b[0m     \u001b[39mself\u001b[39;49m\u001b[39m.\u001b[39;49merror_handler\u001b[39m.\u001b[39;49mcheck_response(response)\n\u001b[1;32m    349\u001b[0m     response[\u001b[39m\"\u001b[39m\u001b[39mvalue\u001b[39m\u001b[39m\"\u001b[39m] \u001b[39m=\u001b[39m \u001b[39mself\u001b[39m\u001b[39m.\u001b[39m_unwrap_value(response\u001b[39m.\u001b[39mget(\u001b[39m\"\u001b[39m\u001b[39mvalue\u001b[39m\u001b[39m\"\u001b[39m, \u001b[39mNone\u001b[39;00m))\n\u001b[1;32m    350\u001b[0m     \u001b[39mreturn\u001b[39;00m response\n",
      "File \u001b[0;32m~/.local/lib/python3.10/site-packages/selenium/webdriver/remote/errorhandler.py:229\u001b[0m, in \u001b[0;36mErrorHandler.check_response\u001b[0;34m(self, response)\u001b[0m\n\u001b[1;32m    227\u001b[0m         alert_text \u001b[39m=\u001b[39m value[\u001b[39m\"\u001b[39m\u001b[39malert\u001b[39m\u001b[39m\"\u001b[39m]\u001b[39m.\u001b[39mget(\u001b[39m\"\u001b[39m\u001b[39mtext\u001b[39m\u001b[39m\"\u001b[39m)\n\u001b[1;32m    228\u001b[0m     \u001b[39mraise\u001b[39;00m exception_class(message, screen, stacktrace, alert_text)  \u001b[39m# type: ignore[call-arg]  # mypy is not smart enough here\u001b[39;00m\n\u001b[0;32m--> 229\u001b[0m \u001b[39mraise\u001b[39;00m exception_class(message, screen, stacktrace)\n",
      "\u001b[0;31mWebDriverException\u001b[0m: Message: Process unexpectedly closed with status 255\n"
     ]
    }
   ],
   "source": [
    "from selenium import webdriver\n",
    "from selenium.webdriver.support.ui import Select\n",
    "from selenium.webdriver.common.by import By\n",
    "from selenium.webdriver.support.ui import WebDriverWait\n",
    "from selenium.webdriver.support import expected_conditions as EC\n",
    "from bs4 import BeautifulSoup\n",
    "\n",
    "# 啟動 Firefox 瀏覽器\n",
    "driver = webdriver.Firefox()\n",
    "\n",
    "try:\n",
    "    # 前往目標網頁\n",
    "    url = \"https://www.cpbl.com.tw/team/apart?Acnt=0000002297\"\n",
    "    driver.get(url)\n",
    "\n",
    "    # 找到下拉選單元素\n",
    "    year_dropdown = WebDriverWait(driver, 10).until(\n",
    "        EC.presence_of_element_located((By.ID, \"year-dropdown-id\"))\n",
    "    )\n",
    "\n",
    "    # 使用 Select 類別初始化下拉選單\n",
    "    select = Select(year_dropdown)\n",
    "\n",
    "    # 選擇下拉選單中的某個選項（例如選擇 2022 年）\n",
    "    select.select_by_value(\"2022\")\n",
    "\n",
    "    # 找到查詢按鈕元素\n",
    "    search_button = driver.find_element_by_id(\"search-button-id\")  # 替換成實際的查詢按鈕的ID\n",
    "\n",
    "    # 模擬按下查詢按鈕的動作\n",
    "    search_button.click()\n",
    "\n",
    "    # 等待網頁加載完成\n",
    "    WebDriverWait(driver, 10).until(EC.title_contains(\"Web scraping\"))\n",
    "\n",
    "    # 取得更新後的網頁內容\n",
    "    updated_html = driver.page_source\n",
    "\n",
    "    # 使用 Beautiful Soup 解析網頁內容\n",
    "    soup = BeautifulSoup(updated_html, 'html.parser')\n",
    "\n",
    "    # 在這裡進行 Beautiful Soup 的操作，提取你需要的資料\n",
    "    # 假設標題在 <h1> 標籤中，你可以這樣提取：\n",
    "    title = soup.find('h1').text.strip()\n",
    "    print(f\"網頁標題：{title}\")\n",
    "\n",
    "finally:\n",
    "    # 關閉瀏覽器\n",
    "    driver.quit()\n"
   ]
  },
  {
   "cell_type": "code",
   "execution_count": 3,
   "metadata": {},
   "outputs": [
    {
     "ename": "TypeError",
     "evalue": "WebDriver.__init__() got an unexpected keyword argument 'executable_path'",
     "output_type": "error",
     "traceback": [
      "\u001b[0;31m---------------------------------------------------------------------------\u001b[0m",
      "\u001b[0;31mTypeError\u001b[0m                                 Traceback (most recent call last)",
      "\u001b[1;32m/workspaces/CPBL_Baseball_ML_project/test.ipynb 儲存格 3\u001b[0m line \u001b[0;36m2\n\u001b[1;32m      <a href='vscode-notebook-cell://dev-container%2B7b22686f737450617468223a22633a5c5c52616368656c5c5c4769744875625c5c4350424c5f4261736562616c6c5f4d4c5f70726f6a656374222c226c6f63616c446f636b6572223a66616c73652c22636f6e66696746696c65223a7b22246d6964223a312c22667350617468223a22633a5c5c52616368656c5c5c4769744875625c5c4350424c5f4261736562616c6c5f4d4c5f70726f6a6563745c5c2e646576636f6e7461696e65725c5c646576636f6e7461696e65722e6a736f6e222c225f736570223a312c2265787465726e616c223a2266696c653a2f2f2f632533412f52616368656c2f4769744875622f4350424c5f4261736562616c6c5f4d4c5f70726f6a6563742f2e646576636f6e7461696e65722f646576636f6e7461696e65722e6a736f6e222c2270617468223a222f633a2f52616368656c2f4769744875622f4350424c5f4261736562616c6c5f4d4c5f70726f6a6563742f2e646576636f6e7461696e65722f646576636f6e7461696e65722e6a736f6e222c22736368656d65223a2266696c65227d7d/workspaces/CPBL_Baseball_ML_project/test.ipynb#W2sdnNjb2RlLXJlbW90ZQ%3D%3D?line=0'>1</a>\u001b[0m \u001b[39mfrom\u001b[39;00m \u001b[39mselenium\u001b[39;00m \u001b[39mimport\u001b[39;00m webdriver\n\u001b[0;32m----> <a href='vscode-notebook-cell://dev-container%2B7b22686f737450617468223a22633a5c5c52616368656c5c5c4769744875625c5c4350424c5f4261736562616c6c5f4d4c5f70726f6a656374222c226c6f63616c446f636b6572223a66616c73652c22636f6e66696746696c65223a7b22246d6964223a312c22667350617468223a22633a5c5c52616368656c5c5c4769744875625c5c4350424c5f4261736562616c6c5f4d4c5f70726f6a6563745c5c2e646576636f6e7461696e65725c5c646576636f6e7461696e65722e6a736f6e222c225f736570223a312c2265787465726e616c223a2266696c653a2f2f2f632533412f52616368656c2f4769744875622f4350424c5f4261736562616c6c5f4d4c5f70726f6a6563742f2e646576636f6e7461696e65722f646576636f6e7461696e65722e6a736f6e222c2270617468223a222f633a2f52616368656c2f4769744875622f4350424c5f4261736562616c6c5f4d4c5f70726f6a6563742f2e646576636f6e7461696e65722f646576636f6e7461696e65722e6a736f6e222c22736368656d65223a2266696c65227d7d/workspaces/CPBL_Baseball_ML_project/test.ipynb#W2sdnNjb2RlLXJlbW90ZQ%3D%3D?line=1'>2</a>\u001b[0m driver \u001b[39m=\u001b[39m webdriver\u001b[39m.\u001b[39;49mChrome(executable_path\u001b[39m=\u001b[39;49m\u001b[39m'\u001b[39;49m\u001b[39m./chromedriver.exe\u001b[39;49m\u001b[39m'\u001b[39;49m)   \u001b[39m# 指向 chromedriver 的位置\u001b[39;00m\n\u001b[1;32m      <a href='vscode-notebook-cell://dev-container%2B7b22686f737450617468223a22633a5c5c52616368656c5c5c4769744875625c5c4350424c5f4261736562616c6c5f4d4c5f70726f6a656374222c226c6f63616c446f636b6572223a66616c73652c22636f6e66696746696c65223a7b22246d6964223a312c22667350617468223a22633a5c5c52616368656c5c5c4769744875625c5c4350424c5f4261736562616c6c5f4d4c5f70726f6a6563745c5c2e646576636f6e7461696e65725c5c646576636f6e7461696e65722e6a736f6e222c225f736570223a312c2265787465726e616c223a2266696c653a2f2f2f632533412f52616368656c2f4769744875622f4350424c5f4261736562616c6c5f4d4c5f70726f6a6563742f2e646576636f6e7461696e65722f646576636f6e7461696e65722e6a736f6e222c2270617468223a222f633a2f52616368656c2f4769744875622f4350424c5f4261736562616c6c5f4d4c5f70726f6a6563742f2e646576636f6e7461696e65722f646576636f6e7461696e65722e6a736f6e222c22736368656d65223a2266696c65227d7d/workspaces/CPBL_Baseball_ML_project/test.ipynb#W2sdnNjb2RlLXJlbW90ZQ%3D%3D?line=2'>3</a>\u001b[0m driver\u001b[39m.\u001b[39mget(\u001b[39m'\u001b[39m\u001b[39mhttps://www.google.com\u001b[39m\u001b[39m'\u001b[39m)           \u001b[39m# 打開瀏覽器，開啟網頁\u001b[39;00m\n",
      "\u001b[0;31mTypeError\u001b[0m: WebDriver.__init__() got an unexpected keyword argument 'executable_path'"
     ]
    }
   ],
   "source": [
    "from selenium import webdriver\n",
    "driver = webdriver.Chrome(executable_path='./chromedriver.exe')   # 指向 chromedriver 的位置\n",
    "driver.get('https://www.google.com')           # 打開瀏覽器，開啟網頁"
   ]
  },
  {
   "cell_type": "code",
   "execution_count": 6,
   "metadata": {},
   "outputs": [
    {
     "ename": "SessionNotCreatedException",
     "evalue": "Message: session not created: Chrome failed to start: exited normally.\n  (session not created: DevToolsActivePort file doesn't exist)\n  (The process started from chrome location /home/vscode/.cache/selenium/chrome/linux64/120.0.6099.71/chrome is no longer running, so ChromeDriver is assuming that Chrome has crashed.)\nStacktrace:\n#0 0x562ea7eacd33 <unknown>\n#1 0x562ea7b69f87 <unknown>\n#2 0x562ea7ba187e <unknown>\n#3 0x562ea7b9e4de <unknown>\n#4 0x562ea7beea90 <unknown>\n#5 0x562ea7be30e3 <unknown>\n#6 0x562ea7bab044 <unknown>\n#7 0x562ea7bac44e <unknown>\n#8 0x562ea7e71861 <unknown>\n#9 0x562ea7e75785 <unknown>\n#10 0x562ea7e5f285 <unknown>\n#11 0x562ea7e7641f <unknown>\n#12 0x562ea7e4320f <unknown>\n#13 0x562ea7e9a028 <unknown>\n#14 0x562ea7e9a1f7 <unknown>\n#15 0x562ea7eabed4 <unknown>\n#16 0x7fedcafe5ea7 start_thread\n",
     "output_type": "error",
     "traceback": [
      "\u001b[0;31m---------------------------------------------------------------------------\u001b[0m",
      "\u001b[0;31mSessionNotCreatedException\u001b[0m                Traceback (most recent call last)",
      "\u001b[1;32m/workspaces/CPBL_Baseball_ML_project/test.ipynb 儲存格 4\u001b[0m line \u001b[0;36m5\n\u001b[1;32m      <a href='vscode-notebook-cell://dev-container%2B7b22686f737450617468223a22633a5c5c52616368656c5c5c4769744875625c5c4350424c5f4261736562616c6c5f4d4c5f70726f6a656374222c226c6f63616c446f636b6572223a66616c73652c22636f6e66696746696c65223a7b22246d6964223a312c22667350617468223a22633a5c5c52616368656c5c5c4769744875625c5c4350424c5f4261736562616c6c5f4d4c5f70726f6a6563745c5c2e646576636f6e7461696e65725c5c646576636f6e7461696e65722e6a736f6e222c225f736570223a312c2265787465726e616c223a2266696c653a2f2f2f632533412f52616368656c2f4769744875622f4350424c5f4261736562616c6c5f4d4c5f70726f6a6563742f2e646576636f6e7461696e65722f646576636f6e7461696e65722e6a736f6e222c2270617468223a222f633a2f52616368656c2f4769744875622f4350424c5f4261736562616c6c5f4d4c5f70726f6a6563742f2e646576636f6e7461696e65722f646576636f6e7461696e65722e6a736f6e222c22736368656d65223a2266696c65227d7d/workspaces/CPBL_Baseball_ML_project/test.ipynb#W3sdnNjb2RlLXJlbW90ZQ%3D%3D?line=1'>2</a>\u001b[0m \u001b[39mfrom\u001b[39;00m \u001b[39mselenium\u001b[39;00m\u001b[39m.\u001b[39;00m\u001b[39mwebdriver\u001b[39;00m\u001b[39m.\u001b[39;00m\u001b[39mcommon\u001b[39;00m\u001b[39m.\u001b[39;00m\u001b[39mby\u001b[39;00m \u001b[39mimport\u001b[39;00m By\n\u001b[1;32m      <a href='vscode-notebook-cell://dev-container%2B7b22686f737450617468223a22633a5c5c52616368656c5c5c4769744875625c5c4350424c5f4261736562616c6c5f4d4c5f70726f6a656374222c226c6f63616c446f636b6572223a66616c73652c22636f6e66696746696c65223a7b22246d6964223a312c22667350617468223a22633a5c5c52616368656c5c5c4769744875625c5c4350424c5f4261736562616c6c5f4d4c5f70726f6a6563745c5c2e646576636f6e7461696e65725c5c646576636f6e7461696e65722e6a736f6e222c225f736570223a312c2265787465726e616c223a2266696c653a2f2f2f632533412f52616368656c2f4769744875622f4350424c5f4261736562616c6c5f4d4c5f70726f6a6563742f2e646576636f6e7461696e65722f646576636f6e7461696e65722e6a736f6e222c2270617468223a222f633a2f52616368656c2f4769744875622f4350424c5f4261736562616c6c5f4d4c5f70726f6a6563742f2e646576636f6e7461696e65722f646576636f6e7461696e65722e6a736f6e222c22736368656d65223a2266696c65227d7d/workspaces/CPBL_Baseball_ML_project/test.ipynb#W3sdnNjb2RlLXJlbW90ZQ%3D%3D?line=2'>3</a>\u001b[0m \u001b[39mfrom\u001b[39;00m \u001b[39mwebdriver_manager\u001b[39;00m\u001b[39m.\u001b[39;00m\u001b[39mchrome\u001b[39;00m \u001b[39mimport\u001b[39;00m ChromeDriverManager\n\u001b[0;32m----> <a href='vscode-notebook-cell://dev-container%2B7b22686f737450617468223a22633a5c5c52616368656c5c5c4769744875625c5c4350424c5f4261736562616c6c5f4d4c5f70726f6a656374222c226c6f63616c446f636b6572223a66616c73652c22636f6e66696746696c65223a7b22246d6964223a312c22667350617468223a22633a5c5c52616368656c5c5c4769744875625c5c4350424c5f4261736562616c6c5f4d4c5f70726f6a6563745c5c2e646576636f6e7461696e65725c5c646576636f6e7461696e65722e6a736f6e222c225f736570223a312c2265787465726e616c223a2266696c653a2f2f2f632533412f52616368656c2f4769744875622f4350424c5f4261736562616c6c5f4d4c5f70726f6a6563742f2e646576636f6e7461696e65722f646576636f6e7461696e65722e6a736f6e222c2270617468223a222f633a2f52616368656c2f4769744875622f4350424c5f4261736562616c6c5f4d4c5f70726f6a6563742f2e646576636f6e7461696e65722f646576636f6e7461696e65722e6a736f6e222c22736368656d65223a2266696c65227d7d/workspaces/CPBL_Baseball_ML_project/test.ipynb#W3sdnNjb2RlLXJlbW90ZQ%3D%3D?line=4'>5</a>\u001b[0m driver \u001b[39m=\u001b[39m webdriver\u001b[39m.\u001b[39;49mChrome()\n\u001b[1;32m      <a href='vscode-notebook-cell://dev-container%2B7b22686f737450617468223a22633a5c5c52616368656c5c5c4769744875625c5c4350424c5f4261736562616c6c5f4d4c5f70726f6a656374222c226c6f63616c446f636b6572223a66616c73652c22636f6e66696746696c65223a7b22246d6964223a312c22667350617468223a22633a5c5c52616368656c5c5c4769744875625c5c4350424c5f4261736562616c6c5f4d4c5f70726f6a6563745c5c2e646576636f6e7461696e65725c5c646576636f6e7461696e65722e6a736f6e222c225f736570223a312c2265787465726e616c223a2266696c653a2f2f2f632533412f52616368656c2f4769744875622f4350424c5f4261736562616c6c5f4d4c5f70726f6a6563742f2e646576636f6e7461696e65722f646576636f6e7461696e65722e6a736f6e222c2270617468223a222f633a2f52616368656c2f4769744875622f4350424c5f4261736562616c6c5f4d4c5f70726f6a6563742f2e646576636f6e7461696e65722f646576636f6e7461696e65722e6a736f6e222c22736368656d65223a2266696c65227d7d/workspaces/CPBL_Baseball_ML_project/test.ipynb#W3sdnNjb2RlLXJlbW90ZQ%3D%3D?line=6'>7</a>\u001b[0m driver \u001b[39m=\u001b[39m webdriver\u001b[39m.\u001b[39mChrome(executable_path\u001b[39m=\u001b[39mChromeDriverManager()\u001b[39m.\u001b[39minstall())\n\u001b[1;32m      <a href='vscode-notebook-cell://dev-container%2B7b22686f737450617468223a22633a5c5c52616368656c5c5c4769744875625c5c4350424c5f4261736562616c6c5f4d4c5f70726f6a656374222c226c6f63616c446f636b6572223a66616c73652c22636f6e66696746696c65223a7b22246d6964223a312c22667350617468223a22633a5c5c52616368656c5c5c4769744875625c5c4350424c5f4261736562616c6c5f4d4c5f70726f6a6563745c5c2e646576636f6e7461696e65725c5c646576636f6e7461696e65722e6a736f6e222c225f736570223a312c2265787465726e616c223a2266696c653a2f2f2f632533412f52616368656c2f4769744875622f4350424c5f4261736562616c6c5f4d4c5f70726f6a6563742f2e646576636f6e7461696e65722f646576636f6e7461696e65722e6a736f6e222c2270617468223a222f633a2f52616368656c2f4769744875622f4350424c5f4261736562616c6c5f4d4c5f70726f6a6563742f2e646576636f6e7461696e65722f646576636f6e7461696e65722e6a736f6e222c22736368656d65223a2266696c65227d7d/workspaces/CPBL_Baseball_ML_project/test.ipynb#W3sdnNjb2RlLXJlbW90ZQ%3D%3D?line=7'>8</a>\u001b[0m driver\u001b[39m.\u001b[39mget(\u001b[39m\"\u001b[39m\u001b[39mhttps://www.selenium.dev/selenium/web/web-form.html\u001b[39m\u001b[39m\"\u001b[39m)\n",
      "File \u001b[0;32m~/.local/lib/python3.10/site-packages/selenium/webdriver/chrome/webdriver.py:45\u001b[0m, in \u001b[0;36mWebDriver.__init__\u001b[0;34m(self, options, service, keep_alive)\u001b[0m\n\u001b[1;32m     42\u001b[0m service \u001b[39m=\u001b[39m service \u001b[39mif\u001b[39;00m service \u001b[39melse\u001b[39;00m Service()\n\u001b[1;32m     43\u001b[0m options \u001b[39m=\u001b[39m options \u001b[39mif\u001b[39;00m options \u001b[39melse\u001b[39;00m Options()\n\u001b[0;32m---> 45\u001b[0m \u001b[39msuper\u001b[39;49m()\u001b[39m.\u001b[39;49m\u001b[39m__init__\u001b[39;49m(\n\u001b[1;32m     46\u001b[0m     browser_name\u001b[39m=\u001b[39;49mDesiredCapabilities\u001b[39m.\u001b[39;49mCHROME[\u001b[39m\"\u001b[39;49m\u001b[39mbrowserName\u001b[39;49m\u001b[39m\"\u001b[39;49m],\n\u001b[1;32m     47\u001b[0m     vendor_prefix\u001b[39m=\u001b[39;49m\u001b[39m\"\u001b[39;49m\u001b[39mgoog\u001b[39;49m\u001b[39m\"\u001b[39;49m,\n\u001b[1;32m     48\u001b[0m     options\u001b[39m=\u001b[39;49moptions,\n\u001b[1;32m     49\u001b[0m     service\u001b[39m=\u001b[39;49mservice,\n\u001b[1;32m     50\u001b[0m     keep_alive\u001b[39m=\u001b[39;49mkeep_alive,\n\u001b[1;32m     51\u001b[0m )\n",
      "File \u001b[0;32m~/.local/lib/python3.10/site-packages/selenium/webdriver/chromium/webdriver.py:61\u001b[0m, in \u001b[0;36mChromiumDriver.__init__\u001b[0;34m(self, browser_name, vendor_prefix, options, service, keep_alive)\u001b[0m\n\u001b[1;32m     52\u001b[0m executor \u001b[39m=\u001b[39m ChromiumRemoteConnection(\n\u001b[1;32m     53\u001b[0m     remote_server_addr\u001b[39m=\u001b[39m\u001b[39mself\u001b[39m\u001b[39m.\u001b[39mservice\u001b[39m.\u001b[39mservice_url,\n\u001b[1;32m     54\u001b[0m     browser_name\u001b[39m=\u001b[39mbrowser_name,\n\u001b[0;32m   (...)\u001b[0m\n\u001b[1;32m     57\u001b[0m     ignore_proxy\u001b[39m=\u001b[39moptions\u001b[39m.\u001b[39m_ignore_local_proxy,\n\u001b[1;32m     58\u001b[0m )\n\u001b[1;32m     60\u001b[0m \u001b[39mtry\u001b[39;00m:\n\u001b[0;32m---> 61\u001b[0m     \u001b[39msuper\u001b[39;49m()\u001b[39m.\u001b[39;49m\u001b[39m__init__\u001b[39;49m(command_executor\u001b[39m=\u001b[39;49mexecutor, options\u001b[39m=\u001b[39;49moptions)\n\u001b[1;32m     62\u001b[0m \u001b[39mexcept\u001b[39;00m \u001b[39mException\u001b[39;00m:\n\u001b[1;32m     63\u001b[0m     \u001b[39mself\u001b[39m\u001b[39m.\u001b[39mquit()\n",
      "File \u001b[0;32m~/.local/lib/python3.10/site-packages/selenium/webdriver/remote/webdriver.py:209\u001b[0m, in \u001b[0;36mWebDriver.__init__\u001b[0;34m(self, command_executor, keep_alive, file_detector, options)\u001b[0m\n\u001b[1;32m    207\u001b[0m \u001b[39mself\u001b[39m\u001b[39m.\u001b[39m_authenticator_id \u001b[39m=\u001b[39m \u001b[39mNone\u001b[39;00m\n\u001b[1;32m    208\u001b[0m \u001b[39mself\u001b[39m\u001b[39m.\u001b[39mstart_client()\n\u001b[0;32m--> 209\u001b[0m \u001b[39mself\u001b[39;49m\u001b[39m.\u001b[39;49mstart_session(capabilities)\n",
      "File \u001b[0;32m~/.local/lib/python3.10/site-packages/selenium/webdriver/remote/webdriver.py:293\u001b[0m, in \u001b[0;36mWebDriver.start_session\u001b[0;34m(self, capabilities)\u001b[0m\n\u001b[1;32m    286\u001b[0m \u001b[39m\u001b[39m\u001b[39m\"\"\"Creates a new session with the desired capabilities.\u001b[39;00m\n\u001b[1;32m    287\u001b[0m \n\u001b[1;32m    288\u001b[0m \u001b[39m:Args:\u001b[39;00m\n\u001b[1;32m    289\u001b[0m \u001b[39m - capabilities - a capabilities dict to start the session with.\u001b[39;00m\n\u001b[1;32m    290\u001b[0m \u001b[39m\"\"\"\u001b[39;00m\n\u001b[1;32m    292\u001b[0m caps \u001b[39m=\u001b[39m _create_caps(capabilities)\n\u001b[0;32m--> 293\u001b[0m response \u001b[39m=\u001b[39m \u001b[39mself\u001b[39;49m\u001b[39m.\u001b[39;49mexecute(Command\u001b[39m.\u001b[39;49mNEW_SESSION, caps)[\u001b[39m\"\u001b[39m\u001b[39mvalue\u001b[39m\u001b[39m\"\u001b[39m]\n\u001b[1;32m    294\u001b[0m \u001b[39mself\u001b[39m\u001b[39m.\u001b[39msession_id \u001b[39m=\u001b[39m response\u001b[39m.\u001b[39mget(\u001b[39m\"\u001b[39m\u001b[39msessionId\u001b[39m\u001b[39m\"\u001b[39m)\n\u001b[1;32m    295\u001b[0m \u001b[39mself\u001b[39m\u001b[39m.\u001b[39mcaps \u001b[39m=\u001b[39m response\u001b[39m.\u001b[39mget(\u001b[39m\"\u001b[39m\u001b[39mcapabilities\u001b[39m\u001b[39m\"\u001b[39m)\n",
      "File \u001b[0;32m~/.local/lib/python3.10/site-packages/selenium/webdriver/remote/webdriver.py:348\u001b[0m, in \u001b[0;36mWebDriver.execute\u001b[0;34m(self, driver_command, params)\u001b[0m\n\u001b[1;32m    346\u001b[0m response \u001b[39m=\u001b[39m \u001b[39mself\u001b[39m\u001b[39m.\u001b[39mcommand_executor\u001b[39m.\u001b[39mexecute(driver_command, params)\n\u001b[1;32m    347\u001b[0m \u001b[39mif\u001b[39;00m response:\n\u001b[0;32m--> 348\u001b[0m     \u001b[39mself\u001b[39;49m\u001b[39m.\u001b[39;49merror_handler\u001b[39m.\u001b[39;49mcheck_response(response)\n\u001b[1;32m    349\u001b[0m     response[\u001b[39m\"\u001b[39m\u001b[39mvalue\u001b[39m\u001b[39m\"\u001b[39m] \u001b[39m=\u001b[39m \u001b[39mself\u001b[39m\u001b[39m.\u001b[39m_unwrap_value(response\u001b[39m.\u001b[39mget(\u001b[39m\"\u001b[39m\u001b[39mvalue\u001b[39m\u001b[39m\"\u001b[39m, \u001b[39mNone\u001b[39;00m))\n\u001b[1;32m    350\u001b[0m     \u001b[39mreturn\u001b[39;00m response\n",
      "File \u001b[0;32m~/.local/lib/python3.10/site-packages/selenium/webdriver/remote/errorhandler.py:229\u001b[0m, in \u001b[0;36mErrorHandler.check_response\u001b[0;34m(self, response)\u001b[0m\n\u001b[1;32m    227\u001b[0m         alert_text \u001b[39m=\u001b[39m value[\u001b[39m\"\u001b[39m\u001b[39malert\u001b[39m\u001b[39m\"\u001b[39m]\u001b[39m.\u001b[39mget(\u001b[39m\"\u001b[39m\u001b[39mtext\u001b[39m\u001b[39m\"\u001b[39m)\n\u001b[1;32m    228\u001b[0m     \u001b[39mraise\u001b[39;00m exception_class(message, screen, stacktrace, alert_text)  \u001b[39m# type: ignore[call-arg]  # mypy is not smart enough here\u001b[39;00m\n\u001b[0;32m--> 229\u001b[0m \u001b[39mraise\u001b[39;00m exception_class(message, screen, stacktrace)\n",
      "\u001b[0;31mSessionNotCreatedException\u001b[0m: Message: session not created: Chrome failed to start: exited normally.\n  (session not created: DevToolsActivePort file doesn't exist)\n  (The process started from chrome location /home/vscode/.cache/selenium/chrome/linux64/120.0.6099.71/chrome is no longer running, so ChromeDriver is assuming that Chrome has crashed.)\nStacktrace:\n#0 0x562ea7eacd33 <unknown>\n#1 0x562ea7b69f87 <unknown>\n#2 0x562ea7ba187e <unknown>\n#3 0x562ea7b9e4de <unknown>\n#4 0x562ea7beea90 <unknown>\n#5 0x562ea7be30e3 <unknown>\n#6 0x562ea7bab044 <unknown>\n#7 0x562ea7bac44e <unknown>\n#8 0x562ea7e71861 <unknown>\n#9 0x562ea7e75785 <unknown>\n#10 0x562ea7e5f285 <unknown>\n#11 0x562ea7e7641f <unknown>\n#12 0x562ea7e4320f <unknown>\n#13 0x562ea7e9a028 <unknown>\n#14 0x562ea7e9a1f7 <unknown>\n#15 0x562ea7eabed4 <unknown>\n#16 0x7fedcafe5ea7 start_thread\n"
     ]
    }
   ],
   "source": [
    "from selenium import webdriver\n",
    "from selenium.webdriver.common.by import By\n",
    "from webdriver_manager.chrome import ChromeDriverManager\n",
    "\n",
    "driver = webdriver.Chrome()\n",
    "\n",
    "driver = webdriver.Chrome(executable_path=ChromeDriverManager().install())\n",
    "driver.get(\"https://www.selenium.dev/selenium/web/web-form.html\")\n",
    "\n",
    "title = driver.title\n",
    "\n",
    "driver.implicitly_wait(0.5)\n",
    "\n",
    "text_box = driver.find_element(by=By.NAME, value=\"my-text\")\n",
    "submit_button = driver.find_element(by=By.CSS_SELECTOR, value=\"button\")\n",
    "\n",
    "text_box.send_keys(\"Selenium\")\n",
    "submit_button.click()\n",
    "\n",
    "message = driver.find_element(by=By.ID, value=\"message\")\n",
    "text = message.text\n",
    "\n",
    "driver.quit()"
   ]
  },
  {
   "cell_type": "code",
   "execution_count": 8,
   "metadata": {},
   "outputs": [
    {
     "ename": "SessionNotCreatedException",
     "evalue": "Message: session not created: Chrome failed to start: exited normally.\n  (session not created: DevToolsActivePort file doesn't exist)\n  (The process started from chrome location /home/vscode/.cache/selenium/chrome/linux64/120.0.6099.71/chrome is no longer running, so ChromeDriver is assuming that Chrome has crashed.)\nStacktrace:\n#0 0x55e81ac4bd33 <unknown>\n#1 0x55e81a908f87 <unknown>\n#2 0x55e81a94087e <unknown>\n#3 0x55e81a93d4de <unknown>\n#4 0x55e81a98da90 <unknown>\n#5 0x55e81a9820e3 <unknown>\n#6 0x55e81a94a044 <unknown>\n#7 0x55e81a94b44e <unknown>\n#8 0x55e81ac10861 <unknown>\n#9 0x55e81ac14785 <unknown>\n#10 0x55e81abfe285 <unknown>\n#11 0x55e81ac1541f <unknown>\n#12 0x55e81abe220f <unknown>\n#13 0x55e81ac39028 <unknown>\n#14 0x55e81ac391f7 <unknown>\n#15 0x55e81ac4aed4 <unknown>\n#16 0x7f99665ebea7 start_thread\n",
     "output_type": "error",
     "traceback": [
      "\u001b[0;31m---------------------------------------------------------------------------\u001b[0m",
      "\u001b[0;31mSessionNotCreatedException\u001b[0m                Traceback (most recent call last)",
      "\u001b[1;32m/workspaces/CPBL_Baseball_ML_project/test.ipynb 儲存格 5\u001b[0m line \u001b[0;36m8\n\u001b[1;32m      <a href='vscode-notebook-cell://dev-container%2B7b22686f737450617468223a22633a5c5c52616368656c5c5c4769744875625c5c4350424c5f4261736562616c6c5f4d4c5f70726f6a656374222c226c6f63616c446f636b6572223a66616c73652c22636f6e66696746696c65223a7b22246d6964223a312c22667350617468223a22633a5c5c52616368656c5c5c4769744875625c5c4350424c5f4261736562616c6c5f4d4c5f70726f6a6563745c5c2e646576636f6e7461696e65725c5c646576636f6e7461696e65722e6a736f6e222c225f736570223a312c2265787465726e616c223a2266696c653a2f2f2f632533412f52616368656c2f4769744875622f4350424c5f4261736562616c6c5f4d4c5f70726f6a6563742f2e646576636f6e7461696e65722f646576636f6e7461696e65722e6a736f6e222c2270617468223a222f633a2f52616368656c2f4769744875622f4350424c5f4261736562616c6c5f4d4c5f70726f6a6563742f2e646576636f6e7461696e65722f646576636f6e7461696e65722e6a736f6e222c22736368656d65223a2266696c65227d7d/workspaces/CPBL_Baseball_ML_project/test.ipynb#W4sdnNjb2RlLXJlbW90ZQ%3D%3D?line=4'>5</a>\u001b[0m url \u001b[39m=\u001b[39m \u001b[39m\"\u001b[39m\u001b[39mhttps://www.cpbl.com.tw/team/apart?Acnt=0000000158\u001b[39m\u001b[39m\"\u001b[39m\n\u001b[1;32m      <a href='vscode-notebook-cell://dev-container%2B7b22686f737450617468223a22633a5c5c52616368656c5c5c4769744875625c5c4350424c5f4261736562616c6c5f4d4c5f70726f6a656374222c226c6f63616c446f636b6572223a66616c73652c22636f6e66696746696c65223a7b22246d6964223a312c22667350617468223a22633a5c5c52616368656c5c5c4769744875625c5c4350424c5f4261736562616c6c5f4d4c5f70726f6a6563745c5c2e646576636f6e7461696e65725c5c646576636f6e7461696e65722e6a736f6e222c225f736570223a312c2265787465726e616c223a2266696c653a2f2f2f632533412f52616368656c2f4769744875622f4350424c5f4261736562616c6c5f4d4c5f70726f6a6563742f2e646576636f6e7461696e65722f646576636f6e7461696e65722e6a736f6e222c2270617468223a222f633a2f52616368656c2f4769744875622f4350424c5f4261736562616c6c5f4d4c5f70726f6a6563742f2e646576636f6e7461696e65722f646576636f6e7461696e65722e6a736f6e222c22736368656d65223a2266696c65227d7d/workspaces/CPBL_Baseball_ML_project/test.ipynb#W4sdnNjb2RlLXJlbW90ZQ%3D%3D?line=6'>7</a>\u001b[0m \u001b[39m# 初始化 WebDriver（使用 Chrome，請確保已安裝 ChromeDriver 並將其路徑添加到系統 PATH 中）\u001b[39;00m\n\u001b[0;32m----> <a href='vscode-notebook-cell://dev-container%2B7b22686f737450617468223a22633a5c5c52616368656c5c5c4769744875625c5c4350424c5f4261736562616c6c5f4d4c5f70726f6a656374222c226c6f63616c446f636b6572223a66616c73652c22636f6e66696746696c65223a7b22246d6964223a312c22667350617468223a22633a5c5c52616368656c5c5c4769744875625c5c4350424c5f4261736562616c6c5f4d4c5f70726f6a6563745c5c2e646576636f6e7461696e65725c5c646576636f6e7461696e65722e6a736f6e222c225f736570223a312c2265787465726e616c223a2266696c653a2f2f2f632533412f52616368656c2f4769744875622f4350424c5f4261736562616c6c5f4d4c5f70726f6a6563742f2e646576636f6e7461696e65722f646576636f6e7461696e65722e6a736f6e222c2270617468223a222f633a2f52616368656c2f4769744875622f4350424c5f4261736562616c6c5f4d4c5f70726f6a6563742f2e646576636f6e7461696e65722f646576636f6e7461696e65722e6a736f6e222c22736368656d65223a2266696c65227d7d/workspaces/CPBL_Baseball_ML_project/test.ipynb#W4sdnNjb2RlLXJlbW90ZQ%3D%3D?line=7'>8</a>\u001b[0m driver \u001b[39m=\u001b[39m webdriver\u001b[39m.\u001b[39;49mChrome()\n\u001b[1;32m     <a href='vscode-notebook-cell://dev-container%2B7b22686f737450617468223a22633a5c5c52616368656c5c5c4769744875625c5c4350424c5f4261736562616c6c5f4d4c5f70726f6a656374222c226c6f63616c446f636b6572223a66616c73652c22636f6e66696746696c65223a7b22246d6964223a312c22667350617468223a22633a5c5c52616368656c5c5c4769744875625c5c4350424c5f4261736562616c6c5f4d4c5f70726f6a6563745c5c2e646576636f6e7461696e65725c5c646576636f6e7461696e65722e6a736f6e222c225f736570223a312c2265787465726e616c223a2266696c653a2f2f2f632533412f52616368656c2f4769744875622f4350424c5f4261736562616c6c5f4d4c5f70726f6a6563742f2e646576636f6e7461696e65722f646576636f6e7461696e65722e6a736f6e222c2270617468223a222f633a2f52616368656c2f4769744875622f4350424c5f4261736562616c6c5f4d4c5f70726f6a6563742f2e646576636f6e7461696e65722f646576636f6e7461696e65722e6a736f6e222c22736368656d65223a2266696c65227d7d/workspaces/CPBL_Baseball_ML_project/test.ipynb#W4sdnNjb2RlLXJlbW90ZQ%3D%3D?line=9'>10</a>\u001b[0m \u001b[39m# 前往網頁\u001b[39;00m\n\u001b[1;32m     <a href='vscode-notebook-cell://dev-container%2B7b22686f737450617468223a22633a5c5c52616368656c5c5c4769744875625c5c4350424c5f4261736562616c6c5f4d4c5f70726f6a656374222c226c6f63616c446f636b6572223a66616c73652c22636f6e66696746696c65223a7b22246d6964223a312c22667350617468223a22633a5c5c52616368656c5c5c4769744875625c5c4350424c5f4261736562616c6c5f4d4c5f70726f6a6563745c5c2e646576636f6e7461696e65725c5c646576636f6e7461696e65722e6a736f6e222c225f736570223a312c2265787465726e616c223a2266696c653a2f2f2f632533412f52616368656c2f4769744875622f4350424c5f4261736562616c6c5f4d4c5f70726f6a6563742f2e646576636f6e7461696e65722f646576636f6e7461696e65722e6a736f6e222c2270617468223a222f633a2f52616368656c2f4769744875622f4350424c5f4261736562616c6c5f4d4c5f70726f6a6563742f2e646576636f6e7461696e65722f646576636f6e7461696e65722e6a736f6e222c22736368656d65223a2266696c65227d7d/workspaces/CPBL_Baseball_ML_project/test.ipynb#W4sdnNjb2RlLXJlbW90ZQ%3D%3D?line=10'>11</a>\u001b[0m driver\u001b[39m.\u001b[39mget(url)\n",
      "File \u001b[0;32m~/.local/lib/python3.10/site-packages/selenium/webdriver/chrome/webdriver.py:45\u001b[0m, in \u001b[0;36mWebDriver.__init__\u001b[0;34m(self, options, service, keep_alive)\u001b[0m\n\u001b[1;32m     42\u001b[0m service \u001b[39m=\u001b[39m service \u001b[39mif\u001b[39;00m service \u001b[39melse\u001b[39;00m Service()\n\u001b[1;32m     43\u001b[0m options \u001b[39m=\u001b[39m options \u001b[39mif\u001b[39;00m options \u001b[39melse\u001b[39;00m Options()\n\u001b[0;32m---> 45\u001b[0m \u001b[39msuper\u001b[39;49m()\u001b[39m.\u001b[39;49m\u001b[39m__init__\u001b[39;49m(\n\u001b[1;32m     46\u001b[0m     browser_name\u001b[39m=\u001b[39;49mDesiredCapabilities\u001b[39m.\u001b[39;49mCHROME[\u001b[39m\"\u001b[39;49m\u001b[39mbrowserName\u001b[39;49m\u001b[39m\"\u001b[39;49m],\n\u001b[1;32m     47\u001b[0m     vendor_prefix\u001b[39m=\u001b[39;49m\u001b[39m\"\u001b[39;49m\u001b[39mgoog\u001b[39;49m\u001b[39m\"\u001b[39;49m,\n\u001b[1;32m     48\u001b[0m     options\u001b[39m=\u001b[39;49moptions,\n\u001b[1;32m     49\u001b[0m     service\u001b[39m=\u001b[39;49mservice,\n\u001b[1;32m     50\u001b[0m     keep_alive\u001b[39m=\u001b[39;49mkeep_alive,\n\u001b[1;32m     51\u001b[0m )\n",
      "File \u001b[0;32m~/.local/lib/python3.10/site-packages/selenium/webdriver/chromium/webdriver.py:61\u001b[0m, in \u001b[0;36mChromiumDriver.__init__\u001b[0;34m(self, browser_name, vendor_prefix, options, service, keep_alive)\u001b[0m\n\u001b[1;32m     52\u001b[0m executor \u001b[39m=\u001b[39m ChromiumRemoteConnection(\n\u001b[1;32m     53\u001b[0m     remote_server_addr\u001b[39m=\u001b[39m\u001b[39mself\u001b[39m\u001b[39m.\u001b[39mservice\u001b[39m.\u001b[39mservice_url,\n\u001b[1;32m     54\u001b[0m     browser_name\u001b[39m=\u001b[39mbrowser_name,\n\u001b[0;32m   (...)\u001b[0m\n\u001b[1;32m     57\u001b[0m     ignore_proxy\u001b[39m=\u001b[39moptions\u001b[39m.\u001b[39m_ignore_local_proxy,\n\u001b[1;32m     58\u001b[0m )\n\u001b[1;32m     60\u001b[0m \u001b[39mtry\u001b[39;00m:\n\u001b[0;32m---> 61\u001b[0m     \u001b[39msuper\u001b[39;49m()\u001b[39m.\u001b[39;49m\u001b[39m__init__\u001b[39;49m(command_executor\u001b[39m=\u001b[39;49mexecutor, options\u001b[39m=\u001b[39;49moptions)\n\u001b[1;32m     62\u001b[0m \u001b[39mexcept\u001b[39;00m \u001b[39mException\u001b[39;00m:\n\u001b[1;32m     63\u001b[0m     \u001b[39mself\u001b[39m\u001b[39m.\u001b[39mquit()\n",
      "File \u001b[0;32m~/.local/lib/python3.10/site-packages/selenium/webdriver/remote/webdriver.py:209\u001b[0m, in \u001b[0;36mWebDriver.__init__\u001b[0;34m(self, command_executor, keep_alive, file_detector, options)\u001b[0m\n\u001b[1;32m    207\u001b[0m \u001b[39mself\u001b[39m\u001b[39m.\u001b[39m_authenticator_id \u001b[39m=\u001b[39m \u001b[39mNone\u001b[39;00m\n\u001b[1;32m    208\u001b[0m \u001b[39mself\u001b[39m\u001b[39m.\u001b[39mstart_client()\n\u001b[0;32m--> 209\u001b[0m \u001b[39mself\u001b[39;49m\u001b[39m.\u001b[39;49mstart_session(capabilities)\n",
      "File \u001b[0;32m~/.local/lib/python3.10/site-packages/selenium/webdriver/remote/webdriver.py:293\u001b[0m, in \u001b[0;36mWebDriver.start_session\u001b[0;34m(self, capabilities)\u001b[0m\n\u001b[1;32m    286\u001b[0m \u001b[39m\u001b[39m\u001b[39m\"\"\"Creates a new session with the desired capabilities.\u001b[39;00m\n\u001b[1;32m    287\u001b[0m \n\u001b[1;32m    288\u001b[0m \u001b[39m:Args:\u001b[39;00m\n\u001b[1;32m    289\u001b[0m \u001b[39m - capabilities - a capabilities dict to start the session with.\u001b[39;00m\n\u001b[1;32m    290\u001b[0m \u001b[39m\"\"\"\u001b[39;00m\n\u001b[1;32m    292\u001b[0m caps \u001b[39m=\u001b[39m _create_caps(capabilities)\n\u001b[0;32m--> 293\u001b[0m response \u001b[39m=\u001b[39m \u001b[39mself\u001b[39;49m\u001b[39m.\u001b[39;49mexecute(Command\u001b[39m.\u001b[39;49mNEW_SESSION, caps)[\u001b[39m\"\u001b[39m\u001b[39mvalue\u001b[39m\u001b[39m\"\u001b[39m]\n\u001b[1;32m    294\u001b[0m \u001b[39mself\u001b[39m\u001b[39m.\u001b[39msession_id \u001b[39m=\u001b[39m response\u001b[39m.\u001b[39mget(\u001b[39m\"\u001b[39m\u001b[39msessionId\u001b[39m\u001b[39m\"\u001b[39m)\n\u001b[1;32m    295\u001b[0m \u001b[39mself\u001b[39m\u001b[39m.\u001b[39mcaps \u001b[39m=\u001b[39m response\u001b[39m.\u001b[39mget(\u001b[39m\"\u001b[39m\u001b[39mcapabilities\u001b[39m\u001b[39m\"\u001b[39m)\n",
      "File \u001b[0;32m~/.local/lib/python3.10/site-packages/selenium/webdriver/remote/webdriver.py:348\u001b[0m, in \u001b[0;36mWebDriver.execute\u001b[0;34m(self, driver_command, params)\u001b[0m\n\u001b[1;32m    346\u001b[0m response \u001b[39m=\u001b[39m \u001b[39mself\u001b[39m\u001b[39m.\u001b[39mcommand_executor\u001b[39m.\u001b[39mexecute(driver_command, params)\n\u001b[1;32m    347\u001b[0m \u001b[39mif\u001b[39;00m response:\n\u001b[0;32m--> 348\u001b[0m     \u001b[39mself\u001b[39;49m\u001b[39m.\u001b[39;49merror_handler\u001b[39m.\u001b[39;49mcheck_response(response)\n\u001b[1;32m    349\u001b[0m     response[\u001b[39m\"\u001b[39m\u001b[39mvalue\u001b[39m\u001b[39m\"\u001b[39m] \u001b[39m=\u001b[39m \u001b[39mself\u001b[39m\u001b[39m.\u001b[39m_unwrap_value(response\u001b[39m.\u001b[39mget(\u001b[39m\"\u001b[39m\u001b[39mvalue\u001b[39m\u001b[39m\"\u001b[39m, \u001b[39mNone\u001b[39;00m))\n\u001b[1;32m    350\u001b[0m     \u001b[39mreturn\u001b[39;00m response\n",
      "File \u001b[0;32m~/.local/lib/python3.10/site-packages/selenium/webdriver/remote/errorhandler.py:229\u001b[0m, in \u001b[0;36mErrorHandler.check_response\u001b[0;34m(self, response)\u001b[0m\n\u001b[1;32m    227\u001b[0m         alert_text \u001b[39m=\u001b[39m value[\u001b[39m\"\u001b[39m\u001b[39malert\u001b[39m\u001b[39m\"\u001b[39m]\u001b[39m.\u001b[39mget(\u001b[39m\"\u001b[39m\u001b[39mtext\u001b[39m\u001b[39m\"\u001b[39m)\n\u001b[1;32m    228\u001b[0m     \u001b[39mraise\u001b[39;00m exception_class(message, screen, stacktrace, alert_text)  \u001b[39m# type: ignore[call-arg]  # mypy is not smart enough here\u001b[39;00m\n\u001b[0;32m--> 229\u001b[0m \u001b[39mraise\u001b[39;00m exception_class(message, screen, stacktrace)\n",
      "\u001b[0;31mSessionNotCreatedException\u001b[0m: Message: session not created: Chrome failed to start: exited normally.\n  (session not created: DevToolsActivePort file doesn't exist)\n  (The process started from chrome location /home/vscode/.cache/selenium/chrome/linux64/120.0.6099.71/chrome is no longer running, so ChromeDriver is assuming that Chrome has crashed.)\nStacktrace:\n#0 0x55e81ac4bd33 <unknown>\n#1 0x55e81a908f87 <unknown>\n#2 0x55e81a94087e <unknown>\n#3 0x55e81a93d4de <unknown>\n#4 0x55e81a98da90 <unknown>\n#5 0x55e81a9820e3 <unknown>\n#6 0x55e81a94a044 <unknown>\n#7 0x55e81a94b44e <unknown>\n#8 0x55e81ac10861 <unknown>\n#9 0x55e81ac14785 <unknown>\n#10 0x55e81abfe285 <unknown>\n#11 0x55e81ac1541f <unknown>\n#12 0x55e81abe220f <unknown>\n#13 0x55e81ac39028 <unknown>\n#14 0x55e81ac391f7 <unknown>\n#15 0x55e81ac4aed4 <unknown>\n#16 0x7f99665ebea7 start_thread\n"
     ]
    }
   ],
   "source": [
    "from selenium import webdriver\n",
    "from selenium.webdriver.support.ui import Select\n",
    "from bs4 import BeautifulSoup\n",
    "\n",
    "url = \"https://www.cpbl.com.tw/team/apart?Acnt=0000000158\"\n",
    "\n",
    "# 初始化 WebDriver（使用 Chrome，請確保已安裝 ChromeDriver 並將其路徑添加到系統 PATH 中）\n",
    "driver = webdriver.Chrome()\n",
    "\n",
    "# 前往網頁\n",
    "driver.get(url)\n",
    "\n",
    "# 找到下拉選單元素\n",
    "year_dropdown = driver.find_element(\"id\", \"year\")\n",
    "\n",
    "# 使用 Select 類別初始化下拉選單\n",
    "select = Select(year_dropdown)\n",
    "\n",
    "# 取得所有年份選項\n",
    "year_options = [option.text for option in select.options]\n",
    "\n",
    "# 遍歷年份選項\n",
    "for year in year_options:\n",
    "    # 選擇下拉選單中的某個選項\n",
    "    select.select_by_visible_text(year)\n",
    "    \n",
    "    # 等待一些時間，確保 JavaScript 有足夠時間更新頁面\n",
    "    driver.implicitly_wait(2)\n",
    "\n",
    "    # 取得更新後的網頁內容\n",
    "    updated_html = driver.page_source\n",
    "\n",
    "    # 使用 Beautiful Soup 解析更新後的內容\n",
    "    soup = BeautifulSoup(updated_html, \"html.parser\")\n",
    "\n",
    "    # 在這裡進行 Beautiful Soup 的操作，提取你需要的數據\n",
    "    # 例如：monthly_table = soup.select_one(\"#your_table_selector\")\n",
    "\n",
    "    # 在這裡處理提取的每月數據\n",
    "    # 例如：monthly_text_data = monthly_table.get_text()\n",
    "\n",
    "    # 在這裡你可以處理提取的每月數據，例如儲存到文件或進行其他處理\n",
    "    # 例如：with open(f\"monthly_data_{year}.txt\", \"w\", encoding=\"utf-8\") as f:\n",
    "    #         f.write(monthly_text_data)\n",
    "\n",
    "# 關閉\n"
   ]
  },
  {
   "cell_type": "code",
   "execution_count": null,
   "metadata": {},
   "outputs": [],
   "source": [
    "from requests_html import HTMLSession\n",
    "from bs4 import BeautifulSoup\n",
    "\n",
    "url = \"https://www.cpbl.com.tw/team/apart?Acnt=0000000158\"\n",
    "\n",
    "# 創建 HTML session\n",
    "session = HTMLSession()\n",
    "\n",
    "# 發送 GET 請求取得 HTML 頁面\n",
    "response = session.get(url)\n",
    "\n",
    "# 解析 HTML 頁面\n",
    "soup = BeautifulSoup(response.html.html, \"html.parser\")\n",
    "\n",
    "# 找到年份下拉選單的選項\n",
    "year_options = [option.text for option in soup.select(\"#year option\")]\n",
    "\n",
    "# 遍歷年份選項\n",
    "for year in year_options:\n",
    "    # 發送 POST 請求，模擬選擇年份\n",
    "    dropdown_url = \"https://www.cpbl.com.tw/ctl/record_monthly.html\"\n",
    "    dropdown_data = {\n",
    "        \"Acnt\": \"0000000158\",  # 替換成你的 Acnt\n",
    "        \"Submit\": \"選擇\",\n",
    "        \"year\": year\n",
    "    }\n",
    "\n",
    "    dropdown_response = session.post(dropdown_url, data=dropdown_data)\n",
    "\n",
    "    # 在這裡進行 Beautiful Soup 的操作，提取你需要的數據\n",
    "    # 例如：monthly_table = BeautifulSoup(dropdown_response.text, \"html.parser\").select_one(\"#your_table_selector\")\n",
    "\n",
    "    # 在這裡處理提取的每月數據\n",
    "    # 例如：monthly_text_data = monthly_table.get_text()\n",
    "\n",
    "    # 在這裡你可以處理提取的每月數據，例如儲存到文件或進行其他處理\n",
    "    # 例如：with open(f\"monthly_data_{year}.txt\", \"w\", encoding=\"utf-8\") as f:\n",
    "    #         f.write(monthly_text_data)\n",
    "\n",
    "# 關閉 HTML session\n",
    "session.close()\n"
   ]
  },
  {
   "cell_type": "code",
   "execution_count": 12,
   "metadata": {},
   "outputs": [
    {
     "name": "stdout",
     "output_type": "stream",
     "text": [
      "<title>Oops</title>\n"
     ]
    },
    {
     "name": "stderr",
     "output_type": "stream",
     "text": [
      "/home/vscode/.local/lib/python3.10/site-packages/urllib3/connectionpool.py:1099: InsecureRequestWarning: Unverified HTTPS request is being made to host 'www.cpbl.com.tw'. Adding certificate verification is strongly advised. See: https://urllib3.readthedocs.io/en/latest/advanced-usage.html#tls-warnings\n",
      "  \n"
     ]
    }
   ],
   "source": [
    "import requests\n",
    "from bs4 import BeautifulSoup\n",
    "\n",
    "url = \"https://www.cpbl.com.tw/team/apart?Acnt=0000000158\"\n",
    "\n",
    "# 設定年份參數\n",
    "#year_params = {\n",
    "    #\"Submit\": \"選擇\",\n",
    "    #\"year\": \"2022\"  # 替換成你想要的年份\n",
    "#}\n",
    "\n",
    "# 發送 POST 請求\n",
    "response = requests.post(url, verify=False)\n",
    "\n",
    "# 解析 HTML 頁面\n",
    "soup = BeautifulSoup(response.text, \"html.parser\")\n",
    "\n",
    "# 在這裡進行 Beautiful Soup 的操作，提取你需要的數據\n",
    "# 例如：monthly_table = soup.select_one(\"#your_table_selector\")\n",
    "title = soup.title\n",
    "print(title) \n",
    "\n",
    "# 在這裡處理提取的每月數據\n",
    "# 例如：monthly_text_data = monthly_table.get_text()\n",
    "\n",
    "# 在這裡你可以處理提取的每月數據，例如儲存到文件或進行其他處理\n",
    "# 例如：with open(\"monthly_data.txt\", \"w\", encoding=\"utf-8\") as f:\n",
    "#         f.write(monthly_text_data)\n"
   ]
  },
  {
   "cell_type": "code",
   "execution_count": 14,
   "metadata": {},
   "outputs": [
    {
     "name": "stderr",
     "output_type": "stream",
     "text": [
      "/home/vscode/.local/lib/python3.10/site-packages/urllib3/connectionpool.py:1099: InsecureRequestWarning: Unverified HTTPS request is being made to host 'www.cpbl.com.tw'. Adding certificate verification is strongly advised. See: https://urllib3.readthedocs.io/en/latest/advanced-usage.html#tls-warnings\n",
      "  \n"
     ]
    },
    {
     "name": "stdout",
     "output_type": "stream",
     "text": [
      "<title>分項成績 | 中華職棒大聯盟全球資訊網 The Official Site of CPBL</title>\n"
     ]
    }
   ],
   "source": [
    "import requests\n",
    "\n",
    "url = \"https://www.cpbl.com.tw/team/apart?Acnt=0000000158\"\n",
    "\n",
    "try:\n",
    "    response = requests.get(url, verify=False)  # 預設為 True，即啟用 SSL 驗證\n",
    "    response.raise_for_status()  # 檢查是否有錯誤發生\n",
    "    html_content = response.text\n",
    "    # 解析 HTML 頁面\n",
    "    soup = BeautifulSoup(response.text, \"html.parser\")\n",
    "\n",
    "    # 在這裡進行 Beautiful Soup 的操作，提取你需要的數據\n",
    "    # 例如：monthly_table = soup.select_one(\"#your_table_selector\")\n",
    "    title = soup.title\n",
    "    print(title) \n",
    "    # 在這裡處理 HTML 內容\n",
    "except requests.exceptions.RequestException as e:\n",
    "    print(f\"Error: {e}\")\n"
   ]
  },
  {
   "cell_type": "code",
   "execution_count": 18,
   "metadata": {},
   "outputs": [
    {
     "name": "stderr",
     "output_type": "stream",
     "text": [
      "/home/vscode/.local/lib/python3.10/site-packages/urllib3/connectionpool.py:1099: InsecureRequestWarning: Unverified HTTPS request is being made to host 'www.cpbl.com.tw'. Adding certificate verification is strongly advised. See: https://urllib3.readthedocs.io/en/latest/advanced-usage.html#tls-warnings\n",
      "  warnings.warn(\n"
     ]
    }
   ],
   "source": [
    "import requests\n",
    "from bs4 import BeautifulSoup\n",
    "\n",
    "url = \"https://www.cpbl.com.tw/team/follow?Acnt=0000000132\"\n",
    "\n",
    "try:\n",
    "    # 發送 GET 請求\n",
    "    response = requests.get(url , verify=False)\n",
    "    response.raise_for_status()  # 檢查是否有錯誤發生\n",
    "\n",
    "    # 使用 BeautifulSoup 解析 HTML 內容\n",
    "    soup = BeautifulSoup(response.text, \"html.parser\")\n",
    "\n",
    "    # 在這裡進行 BeautifulSoup 的操作，提取你需要的資料\n",
    "    # 例如，如果你想獲取所有 <td> 標籤的文字內容，可以這樣寫：\n",
    "    #td_elements = soup.find_all(\"td\")\n",
    "    team = soup.find_all('div')\n",
    "\n",
    "\n",
    "except requests.exceptions.RequestException as e:\n",
    "    print(f\"Error: {e}\")\n"
   ]
  },
  {
   "cell_type": "code",
   "execution_count": 29,
   "metadata": {},
   "outputs": [
    {
     "name": "stderr",
     "output_type": "stream",
     "text": [
      "/home/vscode/.local/lib/python3.10/site-packages/urllib3/connectionpool.py:1099: InsecureRequestWarning: Unverified HTTPS request is being made to host 'www.cpbl.com.tw'. Adding certificate verification is strongly advised. See: https://urllib3.readthedocs.io/en/latest/advanced-usage.html#tls-warnings\n",
      "  warnings.warn(\n"
     ]
    },
    {
     "name": "stdout",
     "output_type": "stream",
     "text": [
      "[<td class=\"sticky num\">{{ dateFormat(new Date(item.GameDate), \"YYYY/MM/DD\") }}</td>, <td class=\"num\"><a :href=\"getGameUrl(item.GameDate, item.KindCode, item.GameSno, item.PresentStatus)\">{{ item.GameSno }}</a></td>, <td>{{ item.FightTeamAbbrName }}</td>, <td class=\"num\">{{ item.PlateAppearances }}</td>, <td class=\"num\">{{ item.HitCnt }}</td>, <td class=\"num\">{{ item.RunBattedINCnt }}</td>, <td class=\"num\">{{ item.ScoreCnt }}</td>, <td class=\"num\">{{ item.HittingCnt }}</td>, <td class=\"num\">{{ item.TwoBaseHitCnt }}</td>, <td class=\"num\">{{ item.ThreeBaseHitCnt }}</td>, <td class=\"num\">{{ item.HomeRunCnt }}</td>, <td class=\"num\">{{ item.TotalBases }}</td>, <td class=\"num\">{{ item.StrikeOutCnt }}</td>, <td class=\"num\">{{ item.StealBaseOKCnt }}</td>, <td class=\"num\">{{ item.StealBaseFailCnt }}</td>, <td class=\"num\">{{ item.Avg.toFixed(3) }}</td>, <td class=\"num\">{{ item.SacrificeHitCnt }}</td>, <td class=\"num\">{{ item.SacrificeFlyCnt }}</td>, <td class=\"num\">{{ item.BasesONBallsCnt }}</td>, <td class=\"num\">（{{ item.IntentionalBasesONBallsCnt }}）</td>, <td class=\"num\">{{ item.HitBYPitchCnt }}</td>, <td class=\"num\">{{ item.DoublePlayBatCnt }}</td>, <td class=\"num\">{{ item.TripplePlayBatCnt }}</td>, <td class=\"num\">{{ item.Lobs }}</td>, <td class=\"num\">{{ item.PutoutCnt }}</td>, <td class=\"num\">{{ item.AssistCnt }}</td>, <td class=\"num\">{{ item.JoinDoublePlayCnt }}</td>, <td class=\"num\">{{ item.JoinTripplePlayCnt }}</td>, <td class=\"num\">{{ item.ErrorCnt }}</td>, <td class=\"num\">{{ item.CaughtStealingCnt }}</td>, <td class=\"num\">{{ item.PassedBallCnt }}</td>, <td class=\"sticky num\">{{ dateFormat(new Date(item.GameDate), \"YYYY/MM/DD\") }}</td>, <td class=\"num\"><a :href=\"getGameUrl(item.GameDate, item.KindCode, item.GameSno, item.PresentStatus)\">{{ item.GameSno }}</a></td>, <td>{{ item.FightTeamAbbrName }}</td>, <td>{{ item.RoleType }}</td>, <td>{{ (item.GameResult == \"\" ? \"無\" : item.GameResult) }}</td>, <td class=\"num\">{{ item.InningPitchedCnt }}</td>, <td class=\"num\">{{ item.PlateAppearances }}</td>, <td class=\"num\">{{ item.PitchCnt }}</td>, <td class=\"num\">{{ item.HittingCnt }}</td>, <td class=\"num\">{{ item.HomeRunCnt }}</td>, <td class=\"num\">{{ item.StrikeOutCnt }}</td>, <td class=\"num\">{{ item.RunCnt }}</td>, <td class=\"num\">{{ item.EarnedRunCnt }}</td>, <td class=\"num\">{{ item.BasesONBallsCnt }}</td>, <td class=\"num\">（{{ item.IntentionalBasesONBallsCnt }}）</td>, <td class=\"num\">{{ item.HitBYPitchCnt }}</td>, <td class=\"num\">{{ item.GroundOut }}</td>, <td class=\"num\">{{ item.FlyOut }}</td>, <td class=\"num\">{{ item.Era.toFixed(2) }}</td>, <td class=\"num\">{{ item.CompleteGames }}</td>, <td class=\"num\">{{ item.ShoutOut }}</td>, <td class=\"num\">{{ item.NoBaseBalled }}</td>, <td class=\"num\">{{ item.SaveFail }}</td>, <td class=\"num\">{{ item.StrikeCnt }}</td>, <td class=\"num\">{{ item.StealCnt }}</td>, <td class=\"num\">{{ item.WildPitchCnt }}</td>, <td class=\"num\">{{ item.BalkCnt }}</td>, <td class=\"num\">{{ item.PutoutCnt }}</td>, <td class=\"num\">{{ item.AssistCnt }}</td>, <td class=\"num\">{{ item.JoinDoublePlayCnt }}</td>, <td class=\"num\">{{ item.JoinTripplePlayCnt }}</td>, <td class=\"num\">{{ item.ErrorCnt }}</td>, <td class=\"num\">{{ item.PitchOutCnt }}</td>]\n",
      "{{ dateFormat(new Date(item.GameDate), \"YYYY/MM/DD\") }}\n",
      "{{ item.GameSno }}\n",
      "{{ item.FightTeamAbbrName }}\n",
      "{{ item.PlateAppearances }}\n",
      "{{ item.HitCnt }}\n",
      "{{ item.RunBattedINCnt }}\n",
      "{{ item.ScoreCnt }}\n",
      "{{ item.HittingCnt }}\n",
      "{{ item.TwoBaseHitCnt }}\n",
      "{{ item.ThreeBaseHitCnt }}\n",
      "{{ item.HomeRunCnt }}\n",
      "{{ item.TotalBases }}\n",
      "{{ item.StrikeOutCnt }}\n",
      "{{ item.StealBaseOKCnt }}\n",
      "{{ item.StealBaseFailCnt }}\n",
      "{{ item.Avg.toFixed(3) }}\n",
      "{{ item.SacrificeHitCnt }}\n",
      "{{ item.SacrificeFlyCnt }}\n",
      "{{ item.BasesONBallsCnt }}\n",
      "（{{ item.IntentionalBasesONBallsCnt }}）\n",
      "{{ item.HitBYPitchCnt }}\n",
      "{{ item.DoublePlayBatCnt }}\n",
      "{{ item.TripplePlayBatCnt }}\n",
      "{{ item.Lobs }}\n",
      "{{ item.PutoutCnt }}\n",
      "{{ item.AssistCnt }}\n",
      "{{ item.JoinDoublePlayCnt }}\n",
      "{{ item.JoinTripplePlayCnt }}\n",
      "{{ item.ErrorCnt }}\n",
      "{{ item.CaughtStealingCnt }}\n",
      "{{ item.PassedBallCnt }}\n",
      "{{ dateFormat(new Date(item.GameDate), \"YYYY/MM/DD\") }}\n",
      "{{ item.GameSno }}\n",
      "{{ item.FightTeamAbbrName }}\n",
      "{{ item.RoleType }}\n",
      "{{ (item.GameResult == \"\" ? \"無\" : item.GameResult) }}\n",
      "{{ item.InningPitchedCnt }}\n",
      "{{ item.PlateAppearances }}\n",
      "{{ item.PitchCnt }}\n",
      "{{ item.HittingCnt }}\n",
      "{{ item.HomeRunCnt }}\n",
      "{{ item.StrikeOutCnt }}\n",
      "{{ item.RunCnt }}\n",
      "{{ item.EarnedRunCnt }}\n",
      "{{ item.BasesONBallsCnt }}\n",
      "（{{ item.IntentionalBasesONBallsCnt }}）\n",
      "{{ item.HitBYPitchCnt }}\n",
      "{{ item.GroundOut }}\n",
      "{{ item.FlyOut }}\n",
      "{{ item.Era.toFixed(2) }}\n",
      "{{ item.CompleteGames }}\n",
      "{{ item.ShoutOut }}\n",
      "{{ item.NoBaseBalled }}\n",
      "{{ item.SaveFail }}\n",
      "{{ item.StrikeCnt }}\n",
      "{{ item.StealCnt }}\n",
      "{{ item.WildPitchCnt }}\n",
      "{{ item.BalkCnt }}\n",
      "{{ item.PutoutCnt }}\n",
      "{{ item.AssistCnt }}\n",
      "{{ item.JoinDoublePlayCnt }}\n",
      "{{ item.JoinTripplePlayCnt }}\n",
      "{{ item.ErrorCnt }}\n",
      "{{ item.PitchOutCnt }}\n"
     ]
    }
   ],
   "source": [
    "import requests\n",
    "from bs4 import BeautifulSoup\n",
    "\n",
    "url = \"https://www.cpbl.com.tw/team/follow?Acnt=0000000132\"\n",
    "\n",
    "response = requests.get(url, verify=False)\n",
    "\n",
    "if response.status_code == 200:\n",
    "    html = response.text\n",
    "    soup = BeautifulSoup(html, \"html.parser\")\n",
    "\n",
    "    # 找到所有標籤，這裡以 td 標籤為例\n",
    "    td_tags = soup.find_all(\"td\")\n",
    "    print(td_tags)\n",
    "\n",
    "    # 逐一取得每個標籤的文本內容\n",
    "    for td in td_tags:\n",
    "        print(td.text)\n",
    "else:\n",
    "    print(f\"Failed to retrieve the page. Status code: {response.status_code}\")\n"
   ]
  },
  {
   "cell_type": "code",
   "execution_count": 34,
   "metadata": {},
   "outputs": [
    {
     "ename": "WebDriverException",
     "evalue": "Message: Service /home/vscode/.cache/selenium/chromedriver/linux64/120.0.6099.71/chromedriver unexpectedly exited. Status code was: 255\n",
     "output_type": "error",
     "traceback": [
      "\u001b[0;31m---------------------------------------------------------------------------\u001b[0m",
      "\u001b[0;31mWebDriverException\u001b[0m                        Traceback (most recent call last)",
      "Cell \u001b[0;32mIn[34], line 3\u001b[0m\n\u001b[1;32m      1\u001b[0m \u001b[39m#Simple assignment\u001b[39;00m\n\u001b[1;32m      2\u001b[0m \u001b[39mfrom\u001b[39;00m \u001b[39mselenium\u001b[39;00m\u001b[39m.\u001b[39;00m\u001b[39mwebdriver\u001b[39;00m \u001b[39mimport\u001b[39;00m Chrome\n\u001b[0;32m----> 3\u001b[0m driver \u001b[39m=\u001b[39m Chrome()\n\u001b[1;32m      4\u001b[0m \u001b[39m#Or use the context manager\u001b[39;00m\n\u001b[1;32m      5\u001b[0m \u001b[39mfrom\u001b[39;00m \u001b[39mselenium\u001b[39;00m\u001b[39m.\u001b[39;00m\u001b[39mwebdriver\u001b[39;00m \u001b[39mimport\u001b[39;00m Chrome\n",
      "File \u001b[0;32m~/.local/lib/python3.10/site-packages/selenium/webdriver/chrome/webdriver.py:45\u001b[0m, in \u001b[0;36mWebDriver.__init__\u001b[0;34m(self, options, service, keep_alive)\u001b[0m\n\u001b[1;32m     42\u001b[0m service \u001b[39m=\u001b[39m service \u001b[39mif\u001b[39;00m service \u001b[39melse\u001b[39;00m Service()\n\u001b[1;32m     43\u001b[0m options \u001b[39m=\u001b[39m options \u001b[39mif\u001b[39;00m options \u001b[39melse\u001b[39;00m Options()\n\u001b[0;32m---> 45\u001b[0m \u001b[39msuper\u001b[39;49m()\u001b[39m.\u001b[39;49m\u001b[39m__init__\u001b[39;49m(\n\u001b[1;32m     46\u001b[0m     browser_name\u001b[39m=\u001b[39;49mDesiredCapabilities\u001b[39m.\u001b[39;49mCHROME[\u001b[39m\"\u001b[39;49m\u001b[39mbrowserName\u001b[39;49m\u001b[39m\"\u001b[39;49m],\n\u001b[1;32m     47\u001b[0m     vendor_prefix\u001b[39m=\u001b[39;49m\u001b[39m\"\u001b[39;49m\u001b[39mgoog\u001b[39;49m\u001b[39m\"\u001b[39;49m,\n\u001b[1;32m     48\u001b[0m     options\u001b[39m=\u001b[39;49moptions,\n\u001b[1;32m     49\u001b[0m     service\u001b[39m=\u001b[39;49mservice,\n\u001b[1;32m     50\u001b[0m     keep_alive\u001b[39m=\u001b[39;49mkeep_alive,\n\u001b[1;32m     51\u001b[0m )\n",
      "File \u001b[0;32m~/.local/lib/python3.10/site-packages/selenium/webdriver/chromium/webdriver.py:50\u001b[0m, in \u001b[0;36mChromiumDriver.__init__\u001b[0;34m(self, browser_name, vendor_prefix, options, service, keep_alive)\u001b[0m\n\u001b[1;32m     47\u001b[0m \u001b[39mself\u001b[39m\u001b[39m.\u001b[39mservice \u001b[39m=\u001b[39m service\n\u001b[1;32m     49\u001b[0m \u001b[39mself\u001b[39m\u001b[39m.\u001b[39mservice\u001b[39m.\u001b[39mpath \u001b[39m=\u001b[39m DriverFinder\u001b[39m.\u001b[39mget_path(\u001b[39mself\u001b[39m\u001b[39m.\u001b[39mservice, options)\n\u001b[0;32m---> 50\u001b[0m \u001b[39mself\u001b[39;49m\u001b[39m.\u001b[39;49mservice\u001b[39m.\u001b[39;49mstart()\n\u001b[1;32m     52\u001b[0m executor \u001b[39m=\u001b[39m ChromiumRemoteConnection(\n\u001b[1;32m     53\u001b[0m     remote_server_addr\u001b[39m=\u001b[39m\u001b[39mself\u001b[39m\u001b[39m.\u001b[39mservice\u001b[39m.\u001b[39mservice_url,\n\u001b[1;32m     54\u001b[0m     browser_name\u001b[39m=\u001b[39mbrowser_name,\n\u001b[0;32m   (...)\u001b[0m\n\u001b[1;32m     57\u001b[0m     ignore_proxy\u001b[39m=\u001b[39moptions\u001b[39m.\u001b[39m_ignore_local_proxy,\n\u001b[1;32m     58\u001b[0m )\n\u001b[1;32m     60\u001b[0m \u001b[39mtry\u001b[39;00m:\n",
      "File \u001b[0;32m~/.local/lib/python3.10/site-packages/selenium/webdriver/common/service.py:102\u001b[0m, in \u001b[0;36mService.start\u001b[0;34m(self)\u001b[0m\n\u001b[1;32m    100\u001b[0m count \u001b[39m=\u001b[39m \u001b[39m0\u001b[39m\n\u001b[1;32m    101\u001b[0m \u001b[39mwhile\u001b[39;00m \u001b[39mTrue\u001b[39;00m:\n\u001b[0;32m--> 102\u001b[0m     \u001b[39mself\u001b[39;49m\u001b[39m.\u001b[39;49massert_process_still_running()\n\u001b[1;32m    103\u001b[0m     \u001b[39mif\u001b[39;00m \u001b[39mself\u001b[39m\u001b[39m.\u001b[39mis_connectable():\n\u001b[1;32m    104\u001b[0m         \u001b[39mbreak\u001b[39;00m\n",
      "File \u001b[0;32m~/.local/lib/python3.10/site-packages/selenium/webdriver/common/service.py:115\u001b[0m, in \u001b[0;36mService.assert_process_still_running\u001b[0;34m(self)\u001b[0m\n\u001b[1;32m    113\u001b[0m return_code \u001b[39m=\u001b[39m \u001b[39mself\u001b[39m\u001b[39m.\u001b[39mprocess\u001b[39m.\u001b[39mpoll()\n\u001b[1;32m    114\u001b[0m \u001b[39mif\u001b[39;00m return_code:\n\u001b[0;32m--> 115\u001b[0m     \u001b[39mraise\u001b[39;00m WebDriverException(\u001b[39mf\u001b[39m\u001b[39m\"\u001b[39m\u001b[39mService \u001b[39m\u001b[39m{\u001b[39;00m\u001b[39mself\u001b[39m\u001b[39m.\u001b[39m_path\u001b[39m}\u001b[39;00m\u001b[39m unexpectedly exited. Status code was: \u001b[39m\u001b[39m{\u001b[39;00mreturn_code\u001b[39m}\u001b[39;00m\u001b[39m\"\u001b[39m)\n",
      "\u001b[0;31mWebDriverException\u001b[0m: Message: Service /home/vscode/.cache/selenium/chromedriver/linux64/120.0.6099.71/chromedriver unexpectedly exited. Status code was: 255\n"
     ]
    }
   ],
   "source": [
    "#Simple assignment\n",
    "from selenium.webdriver import Chrome\n",
    "driver = Chrome()\n",
    "#Or use the context manager\n",
    "from selenium.webdriver import Chrome\n",
    "with Chrome() as driver:\n",
    "    #your code inside this indent(這裡要寫什麼？)\n",
    "    driver.get(\"https://www.google.com.tw\")\n",
    "    # 等待一些時間或執行其他操作...\n",
    "    # 獲取當前頁面的標題\n",
    "    page_title = driver.title\n",
    "    print(\"Page Title:\", page_title)"
   ]
  },
  {
   "cell_type": "code",
   "execution_count": 35,
   "metadata": {},
   "outputs": [
    {
     "ename": "AttributeError",
     "evalue": "'str' object has no attribute 'capabilities'",
     "output_type": "error",
     "traceback": [
      "\u001b[0;31m---------------------------------------------------------------------------\u001b[0m",
      "\u001b[0;31mAttributeError\u001b[0m                            Traceback (most recent call last)",
      "File \u001b[0;32m~/.local/lib/python3.10/site-packages/selenium/webdriver/common/driver_finder.py:38\u001b[0m, in \u001b[0;36mDriverFinder.get_path\u001b[0;34m(service, options)\u001b[0m\n\u001b[1;32m     37\u001b[0m \u001b[39mtry\u001b[39;00m:\n\u001b[0;32m---> 38\u001b[0m     path \u001b[39m=\u001b[39m SeleniumManager()\u001b[39m.\u001b[39;49mdriver_location(options) \u001b[39mif\u001b[39;00m path \u001b[39mis\u001b[39;00m \u001b[39mNone\u001b[39;00m \u001b[39melse\u001b[39;00m path\n\u001b[1;32m     39\u001b[0m \u001b[39mexcept\u001b[39;00m \u001b[39mException\u001b[39;00m \u001b[39mas\u001b[39;00m err:\n",
      "File \u001b[0;32m~/.local/lib/python3.10/site-packages/selenium/webdriver/common/selenium_manager.py:84\u001b[0m, in \u001b[0;36mSeleniumManager.driver_location\u001b[0;34m(self, options)\u001b[0m\n\u001b[1;32m     77\u001b[0m \u001b[39m\u001b[39m\u001b[39m\"\"\"Determines the path of the correct driver.\u001b[39;00m\n\u001b[1;32m     78\u001b[0m \n\u001b[1;32m     79\u001b[0m \u001b[39m:Args:\u001b[39;00m\n\u001b[1;32m     80\u001b[0m \u001b[39m - browser: which browser to get the driver path for.\u001b[39;00m\n\u001b[1;32m     81\u001b[0m \u001b[39m:Returns: The driver path to use\u001b[39;00m\n\u001b[1;32m     82\u001b[0m \u001b[39m\"\"\"\u001b[39;00m\n\u001b[0;32m---> 84\u001b[0m browser \u001b[39m=\u001b[39m options\u001b[39m.\u001b[39;49mcapabilities[\u001b[39m\"\u001b[39m\u001b[39mbrowserName\u001b[39m\u001b[39m\"\u001b[39m]\n\u001b[1;32m     86\u001b[0m args \u001b[39m=\u001b[39m [\u001b[39mstr\u001b[39m(\u001b[39mself\u001b[39m\u001b[39m.\u001b[39mget_binary()), \u001b[39m\"\u001b[39m\u001b[39m--browser\u001b[39m\u001b[39m\"\u001b[39m, browser]\n",
      "\u001b[0;31mAttributeError\u001b[0m: 'str' object has no attribute 'capabilities'",
      "\nDuring handling of the above exception, another exception occurred:\n",
      "\u001b[0;31mAttributeError\u001b[0m                            Traceback (most recent call last)",
      "Cell \u001b[0;32mIn[35], line 7\u001b[0m\n\u001b[1;32m      1\u001b[0m \u001b[39mimport\u001b[39;00m \u001b[39mtime\u001b[39;00m\n\u001b[1;32m      3\u001b[0m \u001b[39mfrom\u001b[39;00m \u001b[39mselenium\u001b[39;00m \u001b[39mimport\u001b[39;00m webdriver\n\u001b[0;32m----> 7\u001b[0m driver \u001b[39m=\u001b[39m webdriver\u001b[39m.\u001b[39;49mChrome(\u001b[39m'\u001b[39;49m\u001b[39m/path/to/chromedriver\u001b[39;49m\u001b[39m'\u001b[39;49m)  \u001b[39m# Optional argument, if not specified will search path.\u001b[39;00m\n\u001b[1;32m      9\u001b[0m driver\u001b[39m.\u001b[39mget(\u001b[39m'\u001b[39m\u001b[39mhttp://www.google.com/\u001b[39m\u001b[39m'\u001b[39m)\n\u001b[1;32m     11\u001b[0m time\u001b[39m.\u001b[39msleep(\u001b[39m5\u001b[39m) \u001b[39m# Let the user actually see something!\u001b[39;00m\n",
      "File \u001b[0;32m~/.local/lib/python3.10/site-packages/selenium/webdriver/chrome/webdriver.py:45\u001b[0m, in \u001b[0;36mWebDriver.__init__\u001b[0;34m(self, options, service, keep_alive)\u001b[0m\n\u001b[1;32m     42\u001b[0m service \u001b[39m=\u001b[39m service \u001b[39mif\u001b[39;00m service \u001b[39melse\u001b[39;00m Service()\n\u001b[1;32m     43\u001b[0m options \u001b[39m=\u001b[39m options \u001b[39mif\u001b[39;00m options \u001b[39melse\u001b[39;00m Options()\n\u001b[0;32m---> 45\u001b[0m \u001b[39msuper\u001b[39;49m()\u001b[39m.\u001b[39;49m\u001b[39m__init__\u001b[39;49m(\n\u001b[1;32m     46\u001b[0m     browser_name\u001b[39m=\u001b[39;49mDesiredCapabilities\u001b[39m.\u001b[39;49mCHROME[\u001b[39m\"\u001b[39;49m\u001b[39mbrowserName\u001b[39;49m\u001b[39m\"\u001b[39;49m],\n\u001b[1;32m     47\u001b[0m     vendor_prefix\u001b[39m=\u001b[39;49m\u001b[39m\"\u001b[39;49m\u001b[39mgoog\u001b[39;49m\u001b[39m\"\u001b[39;49m,\n\u001b[1;32m     48\u001b[0m     options\u001b[39m=\u001b[39;49moptions,\n\u001b[1;32m     49\u001b[0m     service\u001b[39m=\u001b[39;49mservice,\n\u001b[1;32m     50\u001b[0m     keep_alive\u001b[39m=\u001b[39;49mkeep_alive,\n\u001b[1;32m     51\u001b[0m )\n",
      "File \u001b[0;32m~/.local/lib/python3.10/site-packages/selenium/webdriver/chromium/webdriver.py:49\u001b[0m, in \u001b[0;36mChromiumDriver.__init__\u001b[0;34m(self, browser_name, vendor_prefix, options, service, keep_alive)\u001b[0m\n\u001b[1;32m     37\u001b[0m \u001b[39m\u001b[39m\u001b[39m\"\"\"Creates a new WebDriver instance of the ChromiumDriver. Starts the\u001b[39;00m\n\u001b[1;32m     38\u001b[0m \u001b[39mservice and then creates new WebDriver instance of ChromiumDriver.\u001b[39;00m\n\u001b[1;32m     39\u001b[0m \n\u001b[0;32m   (...)\u001b[0m\n\u001b[1;32m     45\u001b[0m \u001b[39m - keep_alive - Whether to configure ChromiumRemoteConnection to use HTTP keep-alive.\u001b[39;00m\n\u001b[1;32m     46\u001b[0m \u001b[39m\"\"\"\u001b[39;00m\n\u001b[1;32m     47\u001b[0m \u001b[39mself\u001b[39m\u001b[39m.\u001b[39mservice \u001b[39m=\u001b[39m service\n\u001b[0;32m---> 49\u001b[0m \u001b[39mself\u001b[39m\u001b[39m.\u001b[39mservice\u001b[39m.\u001b[39mpath \u001b[39m=\u001b[39m DriverFinder\u001b[39m.\u001b[39;49mget_path(\u001b[39mself\u001b[39;49m\u001b[39m.\u001b[39;49mservice, options)\n\u001b[1;32m     50\u001b[0m \u001b[39mself\u001b[39m\u001b[39m.\u001b[39mservice\u001b[39m.\u001b[39mstart()\n\u001b[1;32m     52\u001b[0m executor \u001b[39m=\u001b[39m ChromiumRemoteConnection(\n\u001b[1;32m     53\u001b[0m     remote_server_addr\u001b[39m=\u001b[39m\u001b[39mself\u001b[39m\u001b[39m.\u001b[39mservice\u001b[39m.\u001b[39mservice_url,\n\u001b[1;32m     54\u001b[0m     browser_name\u001b[39m=\u001b[39mbrowser_name,\n\u001b[0;32m   (...)\u001b[0m\n\u001b[1;32m     57\u001b[0m     ignore_proxy\u001b[39m=\u001b[39moptions\u001b[39m.\u001b[39m_ignore_local_proxy,\n\u001b[1;32m     58\u001b[0m )\n",
      "File \u001b[0;32m~/.local/lib/python3.10/site-packages/selenium/webdriver/common/driver_finder.py:40\u001b[0m, in \u001b[0;36mDriverFinder.get_path\u001b[0;34m(service, options)\u001b[0m\n\u001b[1;32m     38\u001b[0m     path \u001b[39m=\u001b[39m SeleniumManager()\u001b[39m.\u001b[39mdriver_location(options) \u001b[39mif\u001b[39;00m path \u001b[39mis\u001b[39;00m \u001b[39mNone\u001b[39;00m \u001b[39melse\u001b[39;00m path\n\u001b[1;32m     39\u001b[0m \u001b[39mexcept\u001b[39;00m \u001b[39mException\u001b[39;00m \u001b[39mas\u001b[39;00m err:\n\u001b[0;32m---> 40\u001b[0m     msg \u001b[39m=\u001b[39m \u001b[39mf\u001b[39m\u001b[39m\"\u001b[39m\u001b[39mUnable to obtain driver for \u001b[39m\u001b[39m{\u001b[39;00moptions\u001b[39m.\u001b[39;49mcapabilities[\u001b[39m'\u001b[39m\u001b[39mbrowserName\u001b[39m\u001b[39m'\u001b[39m]\u001b[39m}\u001b[39;00m\u001b[39m using Selenium Manager.\u001b[39m\u001b[39m\"\u001b[39m\n\u001b[1;32m     41\u001b[0m     \u001b[39mraise\u001b[39;00m NoSuchDriverException(msg) \u001b[39mfrom\u001b[39;00m \u001b[39merr\u001b[39;00m\n\u001b[1;32m     43\u001b[0m \u001b[39mif\u001b[39;00m path \u001b[39mis\u001b[39;00m \u001b[39mNone\u001b[39;00m \u001b[39mor\u001b[39;00m \u001b[39mnot\u001b[39;00m Path(path)\u001b[39m.\u001b[39mis_file():\n",
      "\u001b[0;31mAttributeError\u001b[0m: 'str' object has no attribute 'capabilities'"
     ]
    }
   ],
   "source": [
    "import time\n",
    "\n",
    "from selenium import webdriver\n",
    "\n",
    "\n",
    "\n",
    "driver = webdriver.Chrome('/path/to/chromedriver')  # Optional argument, if not specified will search path.\n",
    "\n",
    "driver.get('http://www.google.com/')\n",
    "\n",
    "time.sleep(5) # Let the user actually see something!\n",
    "\n",
    "search_box = driver.find_element_by_name('q')\n",
    "\n",
    "search_box.send_keys('ChromeDriver')\n",
    "\n",
    "search_box.submit()\n",
    "\n",
    "time.sleep(5) # Let the user actually see something!\n",
    "\n",
    "driver.quit()"
   ]
  },
  {
   "cell_type": "code",
   "execution_count": 36,
   "metadata": {},
   "outputs": [
    {
     "ename": "RuntimeError",
     "evalue": "This event loop is already running",
     "output_type": "error",
     "traceback": [
      "\u001b[0;31m---------------------------------------------------------------------------\u001b[0m",
      "\u001b[0;31mRuntimeError\u001b[0m                              Traceback (most recent call last)",
      "Cell \u001b[0;32mIn[36], line 29\u001b[0m\n\u001b[1;32m     26\u001b[0m     \u001b[39mreturn\u001b[39;00m dynamic_content\n\u001b[1;32m     28\u001b[0m \u001b[39mif\u001b[39;00m \u001b[39m__name__\u001b[39m \u001b[39m==\u001b[39m \u001b[39m\"\u001b[39m\u001b[39m__main__\u001b[39m\u001b[39m\"\u001b[39m:\n\u001b[0;32m---> 29\u001b[0m     result \u001b[39m=\u001b[39m asyncio\u001b[39m.\u001b[39;49mget_event_loop()\u001b[39m.\u001b[39;49mrun_until_complete(get_google_dynamic_content())\n\u001b[1;32m     30\u001b[0m     \u001b[39mprint\u001b[39m(\u001b[39m\"\u001b[39m\u001b[39mGoogle Search Result Title:\u001b[39m\u001b[39m\"\u001b[39m, result)\n",
      "File \u001b[0;32m/usr/local/lib/python3.10/asyncio/base_events.py:625\u001b[0m, in \u001b[0;36mBaseEventLoop.run_until_complete\u001b[0;34m(self, future)\u001b[0m\n\u001b[1;32m    614\u001b[0m \u001b[39m\u001b[39m\u001b[39m\"\"\"Run until the Future is done.\u001b[39;00m\n\u001b[1;32m    615\u001b[0m \n\u001b[1;32m    616\u001b[0m \u001b[39mIf the argument is a coroutine, it is wrapped in a Task.\u001b[39;00m\n\u001b[0;32m   (...)\u001b[0m\n\u001b[1;32m    622\u001b[0m \u001b[39mReturn the Future's result, or raise its exception.\u001b[39;00m\n\u001b[1;32m    623\u001b[0m \u001b[39m\"\"\"\u001b[39;00m\n\u001b[1;32m    624\u001b[0m \u001b[39mself\u001b[39m\u001b[39m.\u001b[39m_check_closed()\n\u001b[0;32m--> 625\u001b[0m \u001b[39mself\u001b[39;49m\u001b[39m.\u001b[39;49m_check_running()\n\u001b[1;32m    627\u001b[0m new_task \u001b[39m=\u001b[39m \u001b[39mnot\u001b[39;00m futures\u001b[39m.\u001b[39misfuture(future)\n\u001b[1;32m    628\u001b[0m future \u001b[39m=\u001b[39m tasks\u001b[39m.\u001b[39mensure_future(future, loop\u001b[39m=\u001b[39m\u001b[39mself\u001b[39m)\n",
      "File \u001b[0;32m/usr/local/lib/python3.10/asyncio/base_events.py:584\u001b[0m, in \u001b[0;36mBaseEventLoop._check_running\u001b[0;34m(self)\u001b[0m\n\u001b[1;32m    582\u001b[0m \u001b[39mdef\u001b[39;00m \u001b[39m_check_running\u001b[39m(\u001b[39mself\u001b[39m):\n\u001b[1;32m    583\u001b[0m     \u001b[39mif\u001b[39;00m \u001b[39mself\u001b[39m\u001b[39m.\u001b[39mis_running():\n\u001b[0;32m--> 584\u001b[0m         \u001b[39mraise\u001b[39;00m \u001b[39mRuntimeError\u001b[39;00m(\u001b[39m'\u001b[39m\u001b[39mThis event loop is already running\u001b[39m\u001b[39m'\u001b[39m)\n\u001b[1;32m    585\u001b[0m     \u001b[39mif\u001b[39;00m events\u001b[39m.\u001b[39m_get_running_loop() \u001b[39mis\u001b[39;00m \u001b[39mnot\u001b[39;00m \u001b[39mNone\u001b[39;00m:\n\u001b[1;32m    586\u001b[0m         \u001b[39mraise\u001b[39;00m \u001b[39mRuntimeError\u001b[39;00m(\n\u001b[1;32m    587\u001b[0m             \u001b[39m'\u001b[39m\u001b[39mCannot run the event loop while another loop is running\u001b[39m\u001b[39m'\u001b[39m)\n",
      "\u001b[0;31mRuntimeError\u001b[0m: This event loop is already running"
     ]
    }
   ],
   "source": [
    "import asyncio\n",
    "from pyppeteer import launch\n",
    "\n",
    "async def get_google_dynamic_content():\n",
    "    browser = await launch()\n",
    "    page = await browser.newPage()\n",
    "    await page.goto(\"https://www.google.com\")\n",
    "\n",
    "    # 使用 waitForSelector 等待元素的出現\n",
    "    await page.waitForSelector('input[name=\"q\"]')\n",
    "\n",
    "    # 在搜尋框輸入 \"Google\"\n",
    "    await page.type('input[name=\"q\"]', 'Google', {'delay': 100})\n",
    "\n",
    "    # 按下 Enter 鍵\n",
    "    await page.keyboard.press('Enter')\n",
    "\n",
    "    # 等待一段時間以確保搜尋結果載入完畢\n",
    "    await page.waitForTimeout(3000)\n",
    "\n",
    "    # 獲取搜尋結果的標題\n",
    "    dynamic_content = await page.evaluate('document.querySelector(\"#search .g h3\").innerText')\n",
    "    \n",
    "    await browser.close()\n",
    "\n",
    "    return dynamic_content\n",
    "\n",
    "if __name__ == \"__main__\":\n",
    "    result = asyncio.get_event_loop().run_until_complete(get_google_dynamic_content())\n",
    "    print(\"Google Search Result Title:\", result)\n"
   ]
  },
  {
   "cell_type": "code",
   "execution_count": 37,
   "metadata": {},
   "outputs": [
    {
     "name": "stderr",
     "output_type": "stream",
     "text": [
      "[INFO] Starting Chromium download.\n",
      "100%|██████████| 109M/109M [00:31<00:00, 3.45Mb/s] \n",
      "[INFO] Beginning extraction\n",
      "[INFO] Chromium extracted to: /home/vscode/.local/share/pyppeteer/local-chromium/588429\n"
     ]
    },
    {
     "ename": "BrowserError",
     "evalue": "Browser closed unexpectedly:\n",
     "output_type": "error",
     "traceback": [
      "\u001b[0;31m---------------------------------------------------------------------------\u001b[0m",
      "\u001b[0;31mBrowserError\u001b[0m                              Traceback (most recent call last)",
      "Cell \u001b[0;32mIn[37], line 32\u001b[0m\n\u001b[1;32m     29\u001b[0m     \u001b[39mreturn\u001b[39;00m dynamic_content\n\u001b[1;32m     31\u001b[0m \u001b[39m# 在 Jupyter Notebook 中執行 asyncio 程式碼\u001b[39;00m\n\u001b[0;32m---> 32\u001b[0m asyncio\u001b[39m.\u001b[39;49mrun(get_google_dynamic_content())\n",
      "File \u001b[0;32m~/.local/lib/python3.10/site-packages/nest_asyncio.py:31\u001b[0m, in \u001b[0;36m_patch_asyncio.<locals>.run\u001b[0;34m(main, debug)\u001b[0m\n\u001b[1;32m     29\u001b[0m task \u001b[39m=\u001b[39m asyncio\u001b[39m.\u001b[39mensure_future(main)\n\u001b[1;32m     30\u001b[0m \u001b[39mtry\u001b[39;00m:\n\u001b[0;32m---> 31\u001b[0m     \u001b[39mreturn\u001b[39;00m loop\u001b[39m.\u001b[39;49mrun_until_complete(task)\n\u001b[1;32m     32\u001b[0m \u001b[39mfinally\u001b[39;00m:\n\u001b[1;32m     33\u001b[0m     \u001b[39mif\u001b[39;00m \u001b[39mnot\u001b[39;00m task\u001b[39m.\u001b[39mdone():\n",
      "File \u001b[0;32m~/.local/lib/python3.10/site-packages/nest_asyncio.py:99\u001b[0m, in \u001b[0;36m_patch_loop.<locals>.run_until_complete\u001b[0;34m(self, future)\u001b[0m\n\u001b[1;32m     96\u001b[0m \u001b[39mif\u001b[39;00m \u001b[39mnot\u001b[39;00m f\u001b[39m.\u001b[39mdone():\n\u001b[1;32m     97\u001b[0m     \u001b[39mraise\u001b[39;00m \u001b[39mRuntimeError\u001b[39;00m(\n\u001b[1;32m     98\u001b[0m         \u001b[39m'\u001b[39m\u001b[39mEvent loop stopped before Future completed.\u001b[39m\u001b[39m'\u001b[39m)\n\u001b[0;32m---> 99\u001b[0m \u001b[39mreturn\u001b[39;00m f\u001b[39m.\u001b[39;49mresult()\n",
      "File \u001b[0;32m/usr/local/lib/python3.10/asyncio/futures.py:201\u001b[0m, in \u001b[0;36mFuture.result\u001b[0;34m(self)\u001b[0m\n\u001b[1;32m    199\u001b[0m \u001b[39mself\u001b[39m\u001b[39m.\u001b[39m__log_traceback \u001b[39m=\u001b[39m \u001b[39mFalse\u001b[39;00m\n\u001b[1;32m    200\u001b[0m \u001b[39mif\u001b[39;00m \u001b[39mself\u001b[39m\u001b[39m.\u001b[39m_exception \u001b[39mis\u001b[39;00m \u001b[39mnot\u001b[39;00m \u001b[39mNone\u001b[39;00m:\n\u001b[0;32m--> 201\u001b[0m     \u001b[39mraise\u001b[39;00m \u001b[39mself\u001b[39m\u001b[39m.\u001b[39m_exception\u001b[39m.\u001b[39mwith_traceback(\u001b[39mself\u001b[39m\u001b[39m.\u001b[39m_exception_tb)\n\u001b[1;32m    202\u001b[0m \u001b[39mreturn\u001b[39;00m \u001b[39mself\u001b[39m\u001b[39m.\u001b[39m_result\n",
      "File \u001b[0;32m/usr/local/lib/python3.10/asyncio/tasks.py:232\u001b[0m, in \u001b[0;36mTask.__step\u001b[0;34m(***failed resolving arguments***)\u001b[0m\n\u001b[1;32m    228\u001b[0m \u001b[39mtry\u001b[39;00m:\n\u001b[1;32m    229\u001b[0m     \u001b[39mif\u001b[39;00m exc \u001b[39mis\u001b[39;00m \u001b[39mNone\u001b[39;00m:\n\u001b[1;32m    230\u001b[0m         \u001b[39m# We use the `send` method directly, because coroutines\u001b[39;00m\n\u001b[1;32m    231\u001b[0m         \u001b[39m# don't have `__iter__` and `__next__` methods.\u001b[39;00m\n\u001b[0;32m--> 232\u001b[0m         result \u001b[39m=\u001b[39m coro\u001b[39m.\u001b[39;49msend(\u001b[39mNone\u001b[39;49;00m)\n\u001b[1;32m    233\u001b[0m     \u001b[39melse\u001b[39;00m:\n\u001b[1;32m    234\u001b[0m         result \u001b[39m=\u001b[39m coro\u001b[39m.\u001b[39mthrow(exc)\n",
      "Cell \u001b[0;32mIn[37], line 8\u001b[0m, in \u001b[0;36mget_google_dynamic_content\u001b[0;34m()\u001b[0m\n\u001b[1;32m      7\u001b[0m \u001b[39masync\u001b[39;00m \u001b[39mdef\u001b[39;00m \u001b[39mget_google_dynamic_content\u001b[39m():\n\u001b[0;32m----> 8\u001b[0m     browser \u001b[39m=\u001b[39m \u001b[39mawait\u001b[39;00m launch()\n\u001b[1;32m      9\u001b[0m     page \u001b[39m=\u001b[39m \u001b[39mawait\u001b[39;00m browser\u001b[39m.\u001b[39mnewPage()\n\u001b[1;32m     10\u001b[0m     \u001b[39mawait\u001b[39;00m page\u001b[39m.\u001b[39mgoto(\u001b[39m\"\u001b[39m\u001b[39mhttps://www.google.com\u001b[39m\u001b[39m\"\u001b[39m)\n",
      "File \u001b[0;32m~/.local/lib/python3.10/site-packages/pyppeteer/launcher.py:307\u001b[0m, in \u001b[0;36mlaunch\u001b[0;34m(options, **kwargs)\u001b[0m\n\u001b[1;32m    239\u001b[0m \u001b[39masync\u001b[39;00m \u001b[39mdef\u001b[39;00m \u001b[39mlaunch\u001b[39m(options: \u001b[39mdict\u001b[39m \u001b[39m=\u001b[39m \u001b[39mNone\u001b[39;00m, \u001b[39m*\u001b[39m\u001b[39m*\u001b[39mkwargs: Any) \u001b[39m-\u001b[39m\u001b[39m>\u001b[39m Browser:\n\u001b[1;32m    240\u001b[0m \u001b[39m    \u001b[39m\u001b[39m\"\"\"Start chrome process and return :class:`~pyppeteer.browser.Browser`.\u001b[39;00m\n\u001b[1;32m    241\u001b[0m \u001b[39m    This function is a shortcut to :meth:`Launcher(options, **kwargs).launch`.\u001b[39;00m\n\u001b[1;32m    242\u001b[0m \u001b[39m    Available options are:\u001b[39;00m\n\u001b[0;32m   (...)\u001b[0m\n\u001b[1;32m    305\u001b[0m \u001b[39m        option with extreme caution.\u001b[39;00m\n\u001b[1;32m    306\u001b[0m \u001b[39m    \"\"\"\u001b[39;00m\n\u001b[0;32m--> 307\u001b[0m     \u001b[39mreturn\u001b[39;00m \u001b[39mawait\u001b[39;00m Launcher(options, \u001b[39m*\u001b[39m\u001b[39m*\u001b[39mkwargs)\u001b[39m.\u001b[39mlaunch()\n",
      "File \u001b[0;32m~/.local/lib/python3.10/site-packages/pyppeteer/launcher.py:168\u001b[0m, in \u001b[0;36mLauncher.launch\u001b[0;34m(self)\u001b[0m\n\u001b[1;32m    165\u001b[0m         signal\u001b[39m.\u001b[39msignal(signal\u001b[39m.\u001b[39mSIGHUP, _close_process)\n\u001b[1;32m    167\u001b[0m connectionDelay \u001b[39m=\u001b[39m \u001b[39mself\u001b[39m\u001b[39m.\u001b[39mslowMo\n\u001b[0;32m--> 168\u001b[0m \u001b[39mself\u001b[39m\u001b[39m.\u001b[39mbrowserWSEndpoint \u001b[39m=\u001b[39m get_ws_endpoint(\u001b[39mself\u001b[39;49m\u001b[39m.\u001b[39;49murl)\n\u001b[1;32m    169\u001b[0m logger\u001b[39m.\u001b[39minfo(\u001b[39mf\u001b[39m\u001b[39m'\u001b[39m\u001b[39mBrowser listening on: \u001b[39m\u001b[39m{\u001b[39;00m\u001b[39mself\u001b[39m\u001b[39m.\u001b[39mbrowserWSEndpoint\u001b[39m}\u001b[39;00m\u001b[39m'\u001b[39m)\n\u001b[1;32m    170\u001b[0m \u001b[39mself\u001b[39m\u001b[39m.\u001b[39mconnection \u001b[39m=\u001b[39m Connection(\u001b[39mself\u001b[39m\u001b[39m.\u001b[39mbrowserWSEndpoint, \u001b[39mself\u001b[39m\u001b[39m.\u001b[39m_loop, connectionDelay, )\n",
      "File \u001b[0;32m~/.local/lib/python3.10/site-packages/pyppeteer/launcher.py:227\u001b[0m, in \u001b[0;36mget_ws_endpoint\u001b[0;34m(url)\u001b[0m\n\u001b[1;32m    225\u001b[0m \u001b[39mwhile\u001b[39;00m (\u001b[39mTrue\u001b[39;00m):\n\u001b[1;32m    226\u001b[0m     \u001b[39mif\u001b[39;00m time\u001b[39m.\u001b[39mtime() \u001b[39m>\u001b[39m timeout:\n\u001b[0;32m--> 227\u001b[0m         \u001b[39mraise\u001b[39;00m BrowserError(\u001b[39m'\u001b[39m\u001b[39mBrowser closed unexpectedly:\u001b[39m\u001b[39m\\n\u001b[39;00m\u001b[39m'\u001b[39m)\n\u001b[1;32m    228\u001b[0m     \u001b[39mtry\u001b[39;00m:\n\u001b[1;32m    229\u001b[0m         \u001b[39mwith\u001b[39;00m urlopen(url) \u001b[39mas\u001b[39;00m f:\n",
      "\u001b[0;31mBrowserError\u001b[0m: Browser closed unexpectedly:\n"
     ]
    }
   ],
   "source": [
    "import nest_asyncio\n",
    "nest_asyncio.apply()\n",
    "\n",
    "import asyncio\n",
    "from pyppeteer import launch\n",
    "\n",
    "async def get_google_dynamic_content():\n",
    "    browser = await launch()\n",
    "    page = await browser.newPage()\n",
    "    await page.goto(\"https://www.google.com\")\n",
    "\n",
    "    # 使用 waitForSelector 等待元素的出現\n",
    "    await page.waitForSelector('input[name=\"q\"]')\n",
    "\n",
    "    # 在搜尋框輸入 \"Google\"\n",
    "    await page.type('input[name=\"q\"]', 'Google', {'delay': 100})\n",
    "\n",
    "    # 按下 Enter 鍵\n",
    "    await page.keyboard.press('Enter')\n",
    "\n",
    "    # 等待一段時間以確保搜尋結果載入完畢\n",
    "    await page.waitForTimeout(3000)\n",
    "\n",
    "    # 獲取搜尋結果的標題\n",
    "    dynamic_content = await page.evaluate('document.querySelector(\"#search .g h3\").innerText')\n",
    "    \n",
    "    await browser.close()\n",
    "\n",
    "    return dynamic_content\n",
    "\n",
    "# 在 Jupyter Notebook 中執行 asyncio 程式碼\n",
    "asyncio.run(get_google_dynamic_content())\n"
   ]
  },
  {
   "cell_type": "code",
   "execution_count": 38,
   "metadata": {},
   "outputs": [
    {
     "name": "stderr",
     "output_type": "stream",
     "text": [
      "/home/vscode/.local/lib/python3.10/site-packages/pyppeteer/util.py:29: RuntimeWarning: coroutine 'get_google_dynamic_content' was never awaited\n",
      "  gc.collect()\n",
      "RuntimeWarning: Enable tracemalloc to get the object allocation traceback\n"
     ]
    },
    {
     "name": "stdout",
     "output_type": "stream",
     "text": [
      "An error occurred: Browser closed unexpectedly:\n",
      "\n"
     ]
    },
    {
     "ename": "UnboundLocalError",
     "evalue": "local variable 'browser' referenced before assignment",
     "output_type": "error",
     "traceback": [
      "\u001b[0;31m---------------------------------------------------------------------------\u001b[0m",
      "\u001b[0;31mUnboundLocalError\u001b[0m                         Traceback (most recent call last)",
      "Cell \u001b[0;32mIn[38], line 35\u001b[0m\n\u001b[1;32m     32\u001b[0m     \u001b[39mreturn\u001b[39;00m dynamic_content\n\u001b[1;32m     34\u001b[0m \u001b[39m# 在 Jupyter Notebook 中執行 asyncio 程式碼\u001b[39;00m\n\u001b[0;32m---> 35\u001b[0m asyncio\u001b[39m.\u001b[39;49mrun(get_google_dynamic_content())\n",
      "File \u001b[0;32m~/.local/lib/python3.10/site-packages/nest_asyncio.py:31\u001b[0m, in \u001b[0;36m_patch_asyncio.<locals>.run\u001b[0;34m(main, debug)\u001b[0m\n\u001b[1;32m     29\u001b[0m task \u001b[39m=\u001b[39m asyncio\u001b[39m.\u001b[39mensure_future(main)\n\u001b[1;32m     30\u001b[0m \u001b[39mtry\u001b[39;00m:\n\u001b[0;32m---> 31\u001b[0m     \u001b[39mreturn\u001b[39;00m loop\u001b[39m.\u001b[39;49mrun_until_complete(task)\n\u001b[1;32m     32\u001b[0m \u001b[39mfinally\u001b[39;00m:\n\u001b[1;32m     33\u001b[0m     \u001b[39mif\u001b[39;00m \u001b[39mnot\u001b[39;00m task\u001b[39m.\u001b[39mdone():\n",
      "File \u001b[0;32m~/.local/lib/python3.10/site-packages/nest_asyncio.py:99\u001b[0m, in \u001b[0;36m_patch_loop.<locals>.run_until_complete\u001b[0;34m(self, future)\u001b[0m\n\u001b[1;32m     96\u001b[0m \u001b[39mif\u001b[39;00m \u001b[39mnot\u001b[39;00m f\u001b[39m.\u001b[39mdone():\n\u001b[1;32m     97\u001b[0m     \u001b[39mraise\u001b[39;00m \u001b[39mRuntimeError\u001b[39;00m(\n\u001b[1;32m     98\u001b[0m         \u001b[39m'\u001b[39m\u001b[39mEvent loop stopped before Future completed.\u001b[39m\u001b[39m'\u001b[39m)\n\u001b[0;32m---> 99\u001b[0m \u001b[39mreturn\u001b[39;00m f\u001b[39m.\u001b[39;49mresult()\n",
      "File \u001b[0;32m/usr/local/lib/python3.10/asyncio/futures.py:201\u001b[0m, in \u001b[0;36mFuture.result\u001b[0;34m(self)\u001b[0m\n\u001b[1;32m    199\u001b[0m \u001b[39mself\u001b[39m\u001b[39m.\u001b[39m__log_traceback \u001b[39m=\u001b[39m \u001b[39mFalse\u001b[39;00m\n\u001b[1;32m    200\u001b[0m \u001b[39mif\u001b[39;00m \u001b[39mself\u001b[39m\u001b[39m.\u001b[39m_exception \u001b[39mis\u001b[39;00m \u001b[39mnot\u001b[39;00m \u001b[39mNone\u001b[39;00m:\n\u001b[0;32m--> 201\u001b[0m     \u001b[39mraise\u001b[39;00m \u001b[39mself\u001b[39m\u001b[39m.\u001b[39m_exception\u001b[39m.\u001b[39mwith_traceback(\u001b[39mself\u001b[39m\u001b[39m.\u001b[39m_exception_tb)\n\u001b[1;32m    202\u001b[0m \u001b[39mreturn\u001b[39;00m \u001b[39mself\u001b[39m\u001b[39m.\u001b[39m_result\n",
      "File \u001b[0;32m/usr/local/lib/python3.10/asyncio/tasks.py:232\u001b[0m, in \u001b[0;36mTask.__step\u001b[0;34m(***failed resolving arguments***)\u001b[0m\n\u001b[1;32m    228\u001b[0m \u001b[39mtry\u001b[39;00m:\n\u001b[1;32m    229\u001b[0m     \u001b[39mif\u001b[39;00m exc \u001b[39mis\u001b[39;00m \u001b[39mNone\u001b[39;00m:\n\u001b[1;32m    230\u001b[0m         \u001b[39m# We use the `send` method directly, because coroutines\u001b[39;00m\n\u001b[1;32m    231\u001b[0m         \u001b[39m# don't have `__iter__` and `__next__` methods.\u001b[39;00m\n\u001b[0;32m--> 232\u001b[0m         result \u001b[39m=\u001b[39m coro\u001b[39m.\u001b[39;49msend(\u001b[39mNone\u001b[39;49;00m)\n\u001b[1;32m    233\u001b[0m     \u001b[39melse\u001b[39;00m:\n\u001b[1;32m    234\u001b[0m         result \u001b[39m=\u001b[39m coro\u001b[39m.\u001b[39mthrow(exc)\n",
      "Cell \u001b[0;32mIn[38], line 29\u001b[0m, in \u001b[0;36mget_google_dynamic_content\u001b[0;34m()\u001b[0m\n\u001b[1;32m     26\u001b[0m     \u001b[39mprint\u001b[39m(\u001b[39mf\u001b[39m\u001b[39m\"\u001b[39m\u001b[39mAn error occurred: \u001b[39m\u001b[39m{\u001b[39;00me\u001b[39m}\u001b[39;00m\u001b[39m\"\u001b[39m)\n\u001b[1;32m     27\u001b[0m \u001b[39mfinally\u001b[39;00m:\n\u001b[1;32m     28\u001b[0m     \u001b[39m# 無論發生什麼，都要關閉瀏覽器\u001b[39;00m\n\u001b[0;32m---> 29\u001b[0m     \u001b[39mif\u001b[39;00m browser:\n\u001b[1;32m     30\u001b[0m         \u001b[39mawait\u001b[39;00m browser\u001b[39m.\u001b[39mclose()\n\u001b[1;32m     32\u001b[0m \u001b[39mreturn\u001b[39;00m dynamic_content\n",
      "\u001b[0;31mUnboundLocalError\u001b[0m: local variable 'browser' referenced before assignment"
     ]
    }
   ],
   "source": [
    "import asyncio\n",
    "from pyppeteer import launch\n",
    "\n",
    "async def get_google_dynamic_content():\n",
    "    try:\n",
    "        browser = await launch()\n",
    "        page = await browser.newPage()\n",
    "        await page.goto(\"https://www.google.com\")\n",
    "\n",
    "        # 使用 waitForSelector 等待元素的出現\n",
    "        await page.waitForSelector('input[name=\"q\"]')\n",
    "\n",
    "        # 在搜尋框輸入 \"Google\"\n",
    "        await page.type('input[name=\"q\"]', 'Google', {'delay': 100})\n",
    "\n",
    "        # 按下 Enter 鍵\n",
    "        await page.keyboard.press('Enter')\n",
    "\n",
    "        # 等待一段時間以確保搜尋結果載入完畢\n",
    "        await page.waitForTimeout(3000)\n",
    "\n",
    "        # 獲取搜尋結果的標題\n",
    "        dynamic_content = await page.evaluate('document.querySelector(\"#search .g h3\").innerText')\n",
    "\n",
    "    except Exception as e:\n",
    "        print(f\"An error occurred: {e}\")\n",
    "    finally:\n",
    "        # 無論發生什麼，都要關閉瀏覽器\n",
    "        if browser:\n",
    "            await browser.close()\n",
    "\n",
    "    return dynamic_content\n",
    "\n",
    "# 在 Jupyter Notebook 中執行 asyncio 程式碼\n",
    "asyncio.run(get_google_dynamic_content())\n"
   ]
  },
  {
   "cell_type": "code",
   "execution_count": 39,
   "metadata": {},
   "outputs": [
    {
     "name": "stdout",
     "output_type": "stream",
     "text": [
      "An error occurred: Browser closed unexpectedly:\n",
      "\n"
     ]
    }
   ],
   "source": [
    "import asyncio\n",
    "from pyppeteer import launch\n",
    "\n",
    "async def get_google_dynamic_content():\n",
    "    browser = None\n",
    "    dynamic_content = None\n",
    "    try:\n",
    "        browser = await launch()\n",
    "        page = await browser.newPage()\n",
    "        await page.goto(\"https://www.google.com\")\n",
    "\n",
    "        # 使用 waitForSelector 等待元素的出現\n",
    "        await page.waitForSelector('input[name=\"q\"]')\n",
    "\n",
    "        # 在搜尋框輸入 \"Google\"\n",
    "        await page.type('input[name=\"q\"]', 'Google', {'delay': 100})\n",
    "\n",
    "        # 按下 Enter 鍵\n",
    "        await page.keyboard.press('Enter')\n",
    "\n",
    "        # 等待一段時間以確保搜尋結果載入完畢\n",
    "        await page.waitForTimeout(3000)\n",
    "\n",
    "        # 獲取搜尋結果的標題\n",
    "        dynamic_content = await page.evaluate('document.querySelector(\"#search .g h3\").innerText')\n",
    "\n",
    "    except Exception as e:\n",
    "        print(f\"An error occurred: {e}\")\n",
    "    finally:\n",
    "        # 無論發生什麼，都要關閉瀏覽器\n",
    "        if browser:\n",
    "            await browser.close()\n",
    "\n",
    "    return dynamic_content\n",
    "\n",
    "# 在 Jupyter Notebook 中執行 asyncio 程式碼\n",
    "asyncio.run(get_google_dynamic_content())\n"
   ]
  },
  {
   "cell_type": "code",
   "execution_count": 41,
   "metadata": {},
   "outputs": [
    {
     "name": "stdout",
     "output_type": "stream",
     "text": [
      "An error occurred: BrowserError - Browser closed unexpectedly:\n",
      "\n"
     ]
    }
   ],
   "source": [
    "import asyncio\n",
    "from pyppeteer import launch\n",
    "\n",
    "async def get_google_dynamic_content():\n",
    "    browser = None\n",
    "    dynamic_content = None\n",
    "    try:\n",
    "        browser = await launch()\n",
    "        page = await browser.newPage()\n",
    "        await page.goto(\"https://www.google.com\")\n",
    "\n",
    "        # 使用 waitForSelector 等待元素的出現\n",
    "        await page.waitForSelector('input[name=\"q\"]')\n",
    "\n",
    "        # 在搜尋框輸入 \"Google\"\n",
    "        await page.type('input[name=\"q\"]', 'Google', {'delay': 100})\n",
    "\n",
    "        # 按下 Enter 鍵\n",
    "        await page.keyboard.press('Enter')\n",
    "\n",
    "        # 等待一段時間以確保搜尋結果載入完畢\n",
    "        await page.waitForTimeout(3000)\n",
    "\n",
    "        # 獲取搜尋結果的標題\n",
    "        dynamic_content = await page.evaluate('document.querySelector(\"#search .g h3\").innerText')\n",
    "    except Exception as e:\n",
    "        print(f\"An error occurred: {type(e).__name__} - {str(e)}\")\n",
    "    finally:\n",
    "        if browser:\n",
    "            await browser.close()\n",
    "\n",
    "    return dynamic_content\n",
    "\n",
    "# 在 Jupyter Notebook 中執行 asyncio 程式碼\n",
    "asyncio.run(get_google_dynamic_content())\n"
   ]
  },
  {
   "cell_type": "code",
   "execution_count": 42,
   "metadata": {},
   "outputs": [
    {
     "name": "stdout",
     "output_type": "stream",
     "text": [
      "An error occurred: BrowserError - Browser closed unexpectedly:\n",
      "\n"
     ]
    }
   ],
   "source": [
    "import asyncio\n",
    "from pyppeteer import launch\n",
    "\n",
    "async def get_google_dynamic_content():\n",
    "    browser = None\n",
    "    dynamic_content = None\n",
    "    try:\n",
    "        browser = await launch()\n",
    "        page = await browser.newPage()\n",
    "        await page.goto(\"https://www.google.com\")\n",
    "\n",
    "        # 使用 waitForSelector 等待元素的出現\n",
    "        await page.waitForSelector('input[name=\"q\"]')\n",
    "\n",
    "        # 在搜尋框輸入 \"Google\"\n",
    "        await page.type('input[name=\"q\"]', 'Google', {'delay': 100})\n",
    "\n",
    "        # 按下 Enter 鍵\n",
    "        await page.keyboard.press('Enter')\n",
    "\n",
    "        # 等待一段時間以確保搜尋結果載入完畢\n",
    "        await page.waitForTimeout(3000)\n",
    "\n",
    "        # 獲取搜尋結果的標題\n",
    "        dynamic_content = await page.evaluate('document.querySelector(\"#search .g h3\").innerText')\n",
    "    except Exception as e:\n",
    "        print(f\"An error occurred: {type(e).__name__} - {str(e)}\")\n",
    "    finally:\n",
    "        if browser:\n",
    "            await browser.close()\n",
    "\n",
    "    return dynamic_content\n",
    "\n",
    "# 在 Jupyter Notebook 中執行 asyncio 程式碼\n",
    "asyncio.run(get_google_dynamic_content())\n"
   ]
  },
  {
   "cell_type": "code",
   "execution_count": 43,
   "metadata": {},
   "outputs": [
    {
     "name": "stdout",
     "output_type": "stream",
     "text": [
      "An error occurred: BrowserError - Browser closed unexpectedly:\n",
      "\n"
     ]
    }
   ],
   "source": [
    "import asyncio\n",
    "from pyppeteer import launch\n",
    "import nest_asyncio\n",
    "nest_asyncio.apply()\n",
    "\n",
    "async def get_google_dynamic_content():\n",
    "    browser = None\n",
    "    dynamic_content = None\n",
    "    try:\n",
    "        browser = await launch()\n",
    "        page = await browser.newPage()\n",
    "        await page.goto(\"https://www.google.com\")\n",
    "\n",
    "        # 使用 waitForSelector 等待元素的出現\n",
    "        await page.waitForSelector('input[name=\"q\"]')\n",
    "\n",
    "        # 在搜尋框輸入 \"Google\"\n",
    "        await page.type('input[name=\"q\"]', 'Google', {'delay': 100})\n",
    "\n",
    "        # 按下 Enter 鍵\n",
    "        await page.keyboard.press('Enter')\n",
    "\n",
    "        # 等待一段時間以確保搜尋結果載入完畢\n",
    "        await page.waitForTimeout(3000)\n",
    "\n",
    "        # 獲取搜尋結果的標題\n",
    "        dynamic_content = await page.evaluate('document.querySelector(\"#search .g h3\").innerText')\n",
    "    except Exception as e:\n",
    "        print(f\"An error occurred: {type(e).__name__} - {str(e)}\")\n",
    "    finally:\n",
    "        if browser:\n",
    "            await browser.close()\n",
    "\n",
    "    return dynamic_content\n",
    "\n",
    "# 在 Jupyter Notebook 中執行 asyncio 程式碼\n",
    "asyncio.run(get_google_dynamic_content())\n"
   ]
  },
  {
   "cell_type": "code",
   "execution_count": 45,
   "metadata": {},
   "outputs": [
    {
     "name": "stdout",
     "output_type": "stream",
     "text": [
      "An error occurred: BrowserError - Browser closed unexpectedly:\n",
      "\n"
     ]
    }
   ],
   "source": [
    "import asyncio\n",
    "from pyppeteer import launch\n",
    "import nest_asyncio\n",
    "nest_asyncio.apply()\n",
    "\n",
    "async def get_google_dynamic_content():\n",
    "    browser = None\n",
    "    dynamic_content = None\n",
    "    try:\n",
    "        browser = await launch(userDataDir='./userdata')\n",
    "        page = await browser.newPage()\n",
    "        await page.goto(\"https://www.google.com\")\n",
    "\n",
    "        # 使用 waitForSelector 等待元素的出現\n",
    "        await page.waitForSelector('input[name=\"q\"]')\n",
    "\n",
    "        # 在搜尋框輸入 \"Google\"\n",
    "        await page.type('input[name=\"q\"]', 'Google', {'delay': 100})\n",
    "\n",
    "        # 按下 Enter 鍵\n",
    "        await page.keyboard.press('Enter')\n",
    "\n",
    "        # 等待一段時間以確保搜尋結果載入完畢\n",
    "        await page.waitForTimeout(3000)\n",
    "\n",
    "        # 獲取搜尋結果的標題\n",
    "        dynamic_content = await page.evaluate('document.querySelector(\"#search .g h3\").innerText')\n",
    "    except Exception as e:\n",
    "        print(f\"An error occurred: {type(e).__name__} - {str(e)}\")\n",
    "    finally:\n",
    "        if browser:\n",
    "            await browser.close()\n",
    "\n",
    "    return dynamic_content\n",
    "\n",
    "# 在 Jupyter Notebook 中執行 asyncio 程式碼\n",
    "asyncio.run(get_google_dynamic_content())\n"
   ]
  },
  {
   "cell_type": "code",
   "execution_count": 46,
   "metadata": {},
   "outputs": [
    {
     "name": "stdout",
     "output_type": "stream",
     "text": [
      "An error occurred: BrowserError - Browser closed unexpectedly:\n",
      "\n"
     ]
    }
   ],
   "source": [
    "import asyncio\n",
    "from pyppeteer import launch\n",
    "\n",
    "async def get_google_dynamic_content():\n",
    "    browser = None\n",
    "    dynamic_content = None\n",
    "    try:\n",
    "        browser = await launch()\n",
    "        page = await browser.newPage()\n",
    "        await page.goto(\"https://www.google.com\")\n",
    "\n",
    "        # 使用 waitForSelector 等待元素的出現\n",
    "        await page.waitForSelector('input[name=\"q\"]')\n",
    "\n",
    "        # 在搜尋框輸入 \"Google\"\n",
    "        await page.type('input[name=\"q\"]', 'Google', {'delay': 100})\n",
    "\n",
    "        # 按下 Enter 鍵\n",
    "        await page.keyboard.press('Enter')\n",
    "\n",
    "        # 等待一段時間以確保搜尋結果載入完畢\n",
    "        await page.waitForTimeout(3000)\n",
    "\n",
    "        # 獲取搜尋結果的標題\n",
    "        dynamic_content = await page.evaluate('document.querySelector(\"#search .g h3\").innerText')\n",
    "    except Exception as e:\n",
    "        print(f\"An error occurred: {type(e).__name__} - {str(e)}\")\n",
    "    finally:\n",
    "        if browser:\n",
    "            await browser.close()\n",
    "\n",
    "    return dynamic_content\n",
    "\n",
    "# 在 Jupyter Notebook 中執行 asyncio 程式碼\n",
    "asyncio.run(get_google_dynamic_content())\n"
   ]
  }
 ],
 "metadata": {
  "kernelspec": {
   "display_name": "Python 3",
   "language": "python",
   "name": "python3"
  },
  "language_info": {
   "codemirror_mode": {
    "name": "ipython",
    "version": 3
   },
   "file_extension": ".py",
   "mimetype": "text/x-python",
   "name": "python",
   "nbconvert_exporter": "python",
   "pygments_lexer": "ipython3",
   "version": "3.10.13"
  },
  "orig_nbformat": 4
 },
 "nbformat": 4,
 "nbformat_minor": 2
}
