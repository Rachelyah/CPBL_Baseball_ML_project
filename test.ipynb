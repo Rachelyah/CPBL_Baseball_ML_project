{
 "cells": [
  {
   "cell_type": "code",
   "execution_count": 15,
   "metadata": {},
   "outputs": [
    {
     "name": "stderr",
     "output_type": "stream",
     "text": [
      "/usr/local/lib/python3.10/genericpath.py:77: RuntimeWarning: coroutine 'main' was never awaited\n",
      "  m = tuple(map(os.fspath, m))\n",
      "RuntimeWarning: Enable tracemalloc to get the object allocation traceback\n"
     ]
    },
    {
     "ename": "Error",
     "evalue": "\n╔══════════════════════════════════════════════════════╗\n║ Host system is missing dependencies to run browsers. ║\n║ Please install them with the following command:      ║\n║                                                      ║\n║     sudo playwright install-deps                     ║\n║                                                      ║\n║ Alternatively, use apt:                              ║\n║     sudo apt-get install libdbus-1-3\\                ║\n║         libatk1.0-0\\                                 ║\n║         libatk-bridge2.0-0\\                          ║\n║         libcups2\\                                    ║\n║         libdrm2\\                                     ║\n║         libxkbcommon0\\                               ║\n║         libatspi2.0-0\\                               ║\n║         libxcomposite1\\                              ║\n║         libxdamage1\\                                 ║\n║         libxfixes3\\                                  ║\n║         libxrandr2\\                                  ║\n║         libgbm1\\                                     ║\n║         libpango-1.0-0\\                              ║\n║         libcairo2\\                                   ║\n║         libasound2                                   ║\n║                                                      ║\n║ <3 Playwright Team                                   ║\n╚══════════════════════════════════════════════════════╝",
     "output_type": "error",
     "traceback": [
      "\u001b[0;31m---------------------------------------------------------------------------\u001b[0m",
      "\u001b[0;31mError\u001b[0m                                     Traceback (most recent call last)",
      "Cell \u001b[0;32mIn[15], line 31\u001b[0m\n\u001b[1;32m     28\u001b[0m         \u001b[39mawait\u001b[39;00m browser\u001b[39m.\u001b[39mclose()\n\u001b[1;32m     30\u001b[0m \u001b[39m# 運行非同步程序\u001b[39;00m\n\u001b[0;32m---> 31\u001b[0m \u001b[39mawait\u001b[39;00m main()\n",
      "Cell \u001b[0;32mIn[15], line 8\u001b[0m, in \u001b[0;36mmain\u001b[0;34m()\u001b[0m\n\u001b[1;32m      6\u001b[0m \u001b[39masync\u001b[39;00m \u001b[39mdef\u001b[39;00m \u001b[39mmain\u001b[39m():\n\u001b[1;32m      7\u001b[0m     \u001b[39masync\u001b[39;00m \u001b[39mwith\u001b[39;00m async_playwright() \u001b[39mas\u001b[39;00m p:\n\u001b[0;32m----> 8\u001b[0m         browser \u001b[39m=\u001b[39m \u001b[39mawait\u001b[39;00m p\u001b[39m.\u001b[39mchromium\u001b[39m.\u001b[39mlaunch()\n\u001b[1;32m      9\u001b[0m         page \u001b[39m=\u001b[39m \u001b[39mawait\u001b[39;00m browser\u001b[39m.\u001b[39mnew_page()\n\u001b[1;32m     11\u001b[0m         \u001b[39m# 訪問指定的網頁\u001b[39;00m\n",
      "File \u001b[0;32m~/.local/lib/python3.10/site-packages/playwright/async_api/_generated.py:14740\u001b[0m, in \u001b[0;36mBrowserType.launch\u001b[0;34m(self, executable_path, channel, args, ignore_default_args, handle_sigint, handle_sigterm, handle_sighup, timeout, env, headless, devtools, proxy, downloads_path, slow_mo, traces_dir, chromium_sandbox, firefox_user_prefs)\u001b[0m\n\u001b[1;32m  14622\u001b[0m \u001b[39masync\u001b[39;00m \u001b[39mdef\u001b[39;00m \u001b[39mlaunch\u001b[39m(\n\u001b[1;32m  14623\u001b[0m     \u001b[39mself\u001b[39m,\n\u001b[1;32m  14624\u001b[0m     \u001b[39m*\u001b[39m,\n\u001b[0;32m   (...)\u001b[0m\n\u001b[1;32m  14645\u001b[0m     ] \u001b[39m=\u001b[39m \u001b[39mNone\u001b[39;00m\n\u001b[1;32m  14646\u001b[0m ) \u001b[39m-\u001b[39m\u001b[39m>\u001b[39m \u001b[39m\"\u001b[39m\u001b[39mBrowser\u001b[39m\u001b[39m\"\u001b[39m:\n\u001b[1;32m  14647\u001b[0m \u001b[39m    \u001b[39m\u001b[39m\"\"\"BrowserType.launch\u001b[39;00m\n\u001b[1;32m  14648\u001b[0m \n\u001b[1;32m  14649\u001b[0m \u001b[39m    Returns the browser instance.\u001b[39;00m\n\u001b[0;32m   (...)\u001b[0m\n\u001b[1;32m  14736\u001b[0m \u001b[39m    Browser\u001b[39;00m\n\u001b[1;32m  14737\u001b[0m \u001b[39m    \"\"\"\u001b[39;00m\n\u001b[1;32m  14739\u001b[0m     \u001b[39mreturn\u001b[39;00m mapping\u001b[39m.\u001b[39mfrom_impl(\n\u001b[0;32m> 14740\u001b[0m         \u001b[39mawait\u001b[39;00m \u001b[39mself\u001b[39m\u001b[39m.\u001b[39m_impl_obj\u001b[39m.\u001b[39mlaunch(\n\u001b[1;32m  14741\u001b[0m             executablePath\u001b[39m=\u001b[39mexecutable_path,\n\u001b[1;32m  14742\u001b[0m             channel\u001b[39m=\u001b[39mchannel,\n\u001b[1;32m  14743\u001b[0m             args\u001b[39m=\u001b[39mmapping\u001b[39m.\u001b[39mto_impl(args),\n\u001b[1;32m  14744\u001b[0m             ignoreDefaultArgs\u001b[39m=\u001b[39mmapping\u001b[39m.\u001b[39mto_impl(ignore_default_args),\n\u001b[1;32m  14745\u001b[0m             handleSIGINT\u001b[39m=\u001b[39mhandle_sigint,\n\u001b[1;32m  14746\u001b[0m             handleSIGTERM\u001b[39m=\u001b[39mhandle_sigterm,\n\u001b[1;32m  14747\u001b[0m             handleSIGHUP\u001b[39m=\u001b[39mhandle_sighup,\n\u001b[1;32m  14748\u001b[0m             timeout\u001b[39m=\u001b[39mtimeout,\n\u001b[1;32m  14749\u001b[0m             env\u001b[39m=\u001b[39mmapping\u001b[39m.\u001b[39mto_impl(env),\n\u001b[1;32m  14750\u001b[0m             headless\u001b[39m=\u001b[39mheadless,\n\u001b[1;32m  14751\u001b[0m             devtools\u001b[39m=\u001b[39mdevtools,\n\u001b[1;32m  14752\u001b[0m             proxy\u001b[39m=\u001b[39mproxy,\n\u001b[1;32m  14753\u001b[0m             downloadsPath\u001b[39m=\u001b[39mdownloads_path,\n\u001b[1;32m  14754\u001b[0m             slowMo\u001b[39m=\u001b[39mslow_mo,\n\u001b[1;32m  14755\u001b[0m             tracesDir\u001b[39m=\u001b[39mtraces_dir,\n\u001b[1;32m  14756\u001b[0m             chromiumSandbox\u001b[39m=\u001b[39mchromium_sandbox,\n\u001b[1;32m  14757\u001b[0m             firefoxUserPrefs\u001b[39m=\u001b[39mmapping\u001b[39m.\u001b[39mto_impl(firefox_user_prefs),\n\u001b[1;32m  14758\u001b[0m         )\n\u001b[1;32m  14759\u001b[0m     )\n",
      "File \u001b[0;32m~/.local/lib/python3.10/site-packages/playwright/_impl/_browser_type.py:95\u001b[0m, in \u001b[0;36mBrowserType.launch\u001b[0;34m(self, executablePath, channel, args, ignoreDefaultArgs, handleSIGINT, handleSIGTERM, handleSIGHUP, timeout, env, headless, devtools, proxy, downloadsPath, slowMo, tracesDir, chromiumSandbox, firefoxUserPrefs)\u001b[0m\n\u001b[1;32m     92\u001b[0m params \u001b[39m=\u001b[39m locals_to_params(\u001b[39mlocals\u001b[39m())\n\u001b[1;32m     93\u001b[0m normalize_launch_params(params)\n\u001b[1;32m     94\u001b[0m browser \u001b[39m=\u001b[39m cast(\n\u001b[0;32m---> 95\u001b[0m     Browser, from_channel(\u001b[39mawait\u001b[39;00m \u001b[39mself\u001b[39m\u001b[39m.\u001b[39m_channel\u001b[39m.\u001b[39msend(\u001b[39m\"\u001b[39m\u001b[39mlaunch\u001b[39m\u001b[39m\"\u001b[39m, params))\n\u001b[1;32m     96\u001b[0m )\n\u001b[1;32m     97\u001b[0m \u001b[39mself\u001b[39m\u001b[39m.\u001b[39m_did_launch_browser(browser)\n\u001b[1;32m     98\u001b[0m \u001b[39mreturn\u001b[39;00m browser\n",
      "File \u001b[0;32m~/.local/lib/python3.10/site-packages/playwright/_impl/_connection.py:62\u001b[0m, in \u001b[0;36mChannel.send\u001b[0;34m(self, method, params)\u001b[0m\n\u001b[1;32m     61\u001b[0m \u001b[39masync\u001b[39;00m \u001b[39mdef\u001b[39;00m \u001b[39msend\u001b[39m(\u001b[39mself\u001b[39m, method: \u001b[39mstr\u001b[39m, params: Dict \u001b[39m=\u001b[39m \u001b[39mNone\u001b[39;00m) \u001b[39m-\u001b[39m\u001b[39m>\u001b[39m Any:\n\u001b[0;32m---> 62\u001b[0m     \u001b[39mreturn\u001b[39;00m \u001b[39mawait\u001b[39;00m \u001b[39mself\u001b[39m\u001b[39m.\u001b[39m_connection\u001b[39m.\u001b[39mwrap_api_call(\n\u001b[1;32m     63\u001b[0m         \u001b[39mlambda\u001b[39;00m: \u001b[39mself\u001b[39m\u001b[39m.\u001b[39minner_send(method, params, \u001b[39mFalse\u001b[39;00m)\n\u001b[1;32m     64\u001b[0m     )\n",
      "File \u001b[0;32m~/.local/lib/python3.10/site-packages/playwright/_impl/_connection.py:492\u001b[0m, in \u001b[0;36mConnection.wrap_api_call\u001b[0;34m(self, cb, is_internal)\u001b[0m\n\u001b[1;32m    490\u001b[0m \u001b[39mself\u001b[39m\u001b[39m.\u001b[39m_api_zone\u001b[39m.\u001b[39mset(_extract_stack_trace_information_from_stack(st, is_internal))\n\u001b[1;32m    491\u001b[0m \u001b[39mtry\u001b[39;00m:\n\u001b[0;32m--> 492\u001b[0m     \u001b[39mreturn\u001b[39;00m \u001b[39mawait\u001b[39;00m cb()\n\u001b[1;32m    493\u001b[0m \u001b[39mfinally\u001b[39;00m:\n\u001b[1;32m    494\u001b[0m     \u001b[39mself\u001b[39m\u001b[39m.\u001b[39m_api_zone\u001b[39m.\u001b[39mset(\u001b[39mNone\u001b[39;00m)\n",
      "File \u001b[0;32m~/.local/lib/python3.10/site-packages/playwright/_impl/_connection.py:100\u001b[0m, in \u001b[0;36mChannel.inner_send\u001b[0;34m(self, method, params, return_as_dict)\u001b[0m\n\u001b[1;32m     98\u001b[0m \u001b[39mif\u001b[39;00m \u001b[39mnot\u001b[39;00m callback\u001b[39m.\u001b[39mfuture\u001b[39m.\u001b[39mdone():\n\u001b[1;32m     99\u001b[0m     callback\u001b[39m.\u001b[39mfuture\u001b[39m.\u001b[39mcancel()\n\u001b[0;32m--> 100\u001b[0m result \u001b[39m=\u001b[39m \u001b[39mnext\u001b[39;49m(\u001b[39miter\u001b[39;49m(done))\u001b[39m.\u001b[39;49mresult()\n\u001b[1;32m    101\u001b[0m \u001b[39m# Protocol now has named return values, assume result is one level deeper unless\u001b[39;00m\n\u001b[1;32m    102\u001b[0m \u001b[39m# there is explicit ambiguity.\u001b[39;00m\n\u001b[1;32m    103\u001b[0m \u001b[39mif\u001b[39;00m \u001b[39mnot\u001b[39;00m result:\n",
      "File \u001b[0;32m/usr/local/lib/python3.10/asyncio/futures.py:201\u001b[0m, in \u001b[0;36mFuture.result\u001b[0;34m(self)\u001b[0m\n\u001b[1;32m    199\u001b[0m \u001b[39mself\u001b[39m\u001b[39m.\u001b[39m__log_traceback \u001b[39m=\u001b[39m \u001b[39mFalse\u001b[39;00m\n\u001b[1;32m    200\u001b[0m \u001b[39mif\u001b[39;00m \u001b[39mself\u001b[39m\u001b[39m.\u001b[39m_exception \u001b[39mis\u001b[39;00m \u001b[39mnot\u001b[39;00m \u001b[39mNone\u001b[39;00m:\n\u001b[0;32m--> 201\u001b[0m     \u001b[39mraise\u001b[39;00m \u001b[39mself\u001b[39m\u001b[39m.\u001b[39m_exception\u001b[39m.\u001b[39mwith_traceback(\u001b[39mself\u001b[39m\u001b[39m.\u001b[39m_exception_tb)\n\u001b[1;32m    202\u001b[0m \u001b[39mreturn\u001b[39;00m \u001b[39mself\u001b[39m\u001b[39m.\u001b[39m_result\n",
      "\u001b[0;31mError\u001b[0m: \n╔══════════════════════════════════════════════════════╗\n║ Host system is missing dependencies to run browsers. ║\n║ Please install them with the following command:      ║\n║                                                      ║\n║     sudo playwright install-deps                     ║\n║                                                      ║\n║ Alternatively, use apt:                              ║\n║     sudo apt-get install libdbus-1-3\\                ║\n║         libatk1.0-0\\                                 ║\n║         libatk-bridge2.0-0\\                          ║\n║         libcups2\\                                    ║\n║         libdrm2\\                                     ║\n║         libxkbcommon0\\                               ║\n║         libatspi2.0-0\\                               ║\n║         libxcomposite1\\                              ║\n║         libxdamage1\\                                 ║\n║         libxfixes3\\                                  ║\n║         libxrandr2\\                                  ║\n║         libgbm1\\                                     ║\n║         libpango-1.0-0\\                              ║\n║         libcairo2\\                                   ║\n║         libasound2                                   ║\n║                                                      ║\n║ <3 Playwright Team                                   ║\n╚══════════════════════════════════════════════════════╝"
     ]
    }
   ],
   "source": [
    "import nest_asyncio\n",
    "nest_asyncio.apply()\n",
    "\n",
    "from playwright.async_api import async_playwright\n",
    "\n",
    "async def main():\n",
    "    async with async_playwright() as p:\n",
    "        browser = await p.chromium.launch()\n",
    "        page = await browser.new_page()\n",
    "\n",
    "        # 訪問指定的網頁\n",
    "        await page.goto('https://www.cpbl.com.tw/team/apart?Acnt=0000000158')\n",
    "\n",
    "        # 選擇下拉選單（這裡僅是一個示例，請根據實際情況修改）\n",
    "        await page.select_option('select#dropdown', 'OptionValue')\n",
    "\n",
    "        # 點擊按鈕\n",
    "        await page.click('button#searchButton')\n",
    "\n",
    "        # 等待一些時間，確保頁面已經加載完畢\n",
    "        await page.wait_for_timeout(3000)\n",
    "\n",
    "        # 爬取資料\n",
    "        data = await page.evaluate('document.querySelector(\"body\").innerHTML')\n",
    "        print(data)\n",
    "\n",
    "        # 關閉瀏覽器\n",
    "        await browser.close()\n",
    "\n",
    "# 運行非同步程序\n",
    "await main()\n"
   ]
  },
  {
   "cell_type": "code",
   "execution_count": null,
   "metadata": {},
   "outputs": [],
   "source": []
  }
 ],
 "metadata": {
  "kernelspec": {
   "display_name": "Python 3",
   "language": "python",
   "name": "python3"
  },
  "language_info": {
   "codemirror_mode": {
    "name": "ipython",
    "version": 3
   },
   "file_extension": ".py",
   "mimetype": "text/x-python",
   "name": "python",
   "nbconvert_exporter": "python",
   "pygments_lexer": "ipython3",
   "version": "3.10.13"
  },
  "orig_nbformat": 4
 },
 "nbformat": 4,
 "nbformat_minor": 2
}
